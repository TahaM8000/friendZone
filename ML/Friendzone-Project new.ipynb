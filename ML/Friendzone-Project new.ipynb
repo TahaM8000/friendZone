{
 "cells": [
  {
   "cell_type": "code",
   "execution_count": 1,
   "id": "a7e48689",
   "metadata": {},
   "outputs": [],
   "source": [
    "import pandas as pd\n",
    "import numpy as np"
   ]
  },
  {
   "cell_type": "code",
   "execution_count": 2,
   "id": "3980a034",
   "metadata": {},
   "outputs": [],
   "source": [
    "df=pd.read_csv('Friendzone.csv')"
   ]
  },
  {
   "cell_type": "code",
   "execution_count": 3,
   "id": "108f30c8",
   "metadata": {},
   "outputs": [
    {
     "data": {
      "text/html": [
       "<div>\n",
       "<style scoped>\n",
       "    .dataframe tbody tr th:only-of-type {\n",
       "        vertical-align: middle;\n",
       "    }\n",
       "\n",
       "    .dataframe tbody tr th {\n",
       "        vertical-align: top;\n",
       "    }\n",
       "\n",
       "    .dataframe thead th {\n",
       "        text-align: right;\n",
       "    }\n",
       "</style>\n",
       "<table border=\"1\" class=\"dataframe\">\n",
       "  <thead>\n",
       "    <tr style=\"text-align: right;\">\n",
       "      <th></th>\n",
       "      <th>username</th>\n",
       "      <th>name</th>\n",
       "      <th>city</th>\n",
       "      <th>reason</th>\n",
       "      <th>gender</th>\n",
       "    </tr>\n",
       "  </thead>\n",
       "  <tbody>\n",
       "    <tr>\n",
       "      <th>0</th>\n",
       "      <td>taha</td>\n",
       "      <td>???? ?????</td>\n",
       "      <td>Tehran</td>\n",
       "      <td>f</td>\n",
       "      <td>male</td>\n",
       "    </tr>\n",
       "    <tr>\n",
       "      <th>1</th>\n",
       "      <td>0</td>\n",
       "      <td>???? ???? ????</td>\n",
       "      <td>custom</td>\n",
       "      <td>u</td>\n",
       "      <td>male</td>\n",
       "    </tr>\n",
       "    <tr>\n",
       "      <th>2</th>\n",
       "      <td>1</td>\n",
       "      <td>???? ?????</td>\n",
       "      <td>Tehran</td>\n",
       "      <td>f</td>\n",
       "      <td>female</td>\n",
       "    </tr>\n",
       "    <tr>\n",
       "      <th>3</th>\n",
       "      <td>2</td>\n",
       "      <td>???? ????</td>\n",
       "      <td>Shiraz</td>\n",
       "      <td>a</td>\n",
       "      <td>male</td>\n",
       "    </tr>\n",
       "    <tr>\n",
       "      <th>4</th>\n",
       "      <td>3</td>\n",
       "      <td>???? ?????</td>\n",
       "      <td>Shiraz</td>\n",
       "      <td>u</td>\n",
       "      <td>female</td>\n",
       "    </tr>\n",
       "    <tr>\n",
       "      <th>...</th>\n",
       "      <td>...</td>\n",
       "      <td>...</td>\n",
       "      <td>...</td>\n",
       "      <td>...</td>\n",
       "      <td>...</td>\n",
       "    </tr>\n",
       "    <tr>\n",
       "      <th>167</th>\n",
       "      <td>166</td>\n",
       "      <td>???? ????</td>\n",
       "      <td>Shiraz</td>\n",
       "      <td>a</td>\n",
       "      <td>male</td>\n",
       "    </tr>\n",
       "    <tr>\n",
       "      <th>168</th>\n",
       "      <td>167</td>\n",
       "      <td>????? ??????</td>\n",
       "      <td>BandarAbbas</td>\n",
       "      <td>y</td>\n",
       "      <td>male</td>\n",
       "    </tr>\n",
       "    <tr>\n",
       "      <th>169</th>\n",
       "      <td>168</td>\n",
       "      <td>????? ????</td>\n",
       "      <td>Tehran</td>\n",
       "      <td>y</td>\n",
       "      <td>male</td>\n",
       "    </tr>\n",
       "    <tr>\n",
       "      <th>170</th>\n",
       "      <td>169</td>\n",
       "      <td>??????? ??????</td>\n",
       "      <td>Tehran</td>\n",
       "      <td>y</td>\n",
       "      <td>male</td>\n",
       "    </tr>\n",
       "    <tr>\n",
       "      <th>171</th>\n",
       "      <td>170</td>\n",
       "      <td>???? ???????</td>\n",
       "      <td>Tehran</td>\n",
       "      <td>i</td>\n",
       "      <td>female</td>\n",
       "    </tr>\n",
       "  </tbody>\n",
       "</table>\n",
       "<p>172 rows × 5 columns</p>\n",
       "</div>"
      ],
      "text/plain": [
       "    username            name         city reason  gender\n",
       "0       taha      ???? ?????       Tehran      f    male\n",
       "1          0  ???? ???? ????       custom      u    male\n",
       "2          1      ???? ?????       Tehran      f  female\n",
       "3          2       ???? ????       Shiraz      a    male\n",
       "4          3      ???? ?????       Shiraz      u  female\n",
       "..       ...             ...          ...    ...     ...\n",
       "167      166       ???? ????       Shiraz      a    male\n",
       "168      167    ????? ??????  BandarAbbas      y    male\n",
       "169      168      ????? ????       Tehran      y    male\n",
       "170      169  ??????? ??????       Tehran      y    male\n",
       "171      170    ???? ???????       Tehran      i  female\n",
       "\n",
       "[172 rows x 5 columns]"
      ]
     },
     "execution_count": 3,
     "metadata": {},
     "output_type": "execute_result"
    }
   ],
   "source": [
    "df.head(-3)"
   ]
  },
  {
   "cell_type": "code",
   "execution_count": 4,
   "id": "1ed54d3f",
   "metadata": {},
   "outputs": [
    {
     "data": {
      "text/plain": [
       "username    0\n",
       "name        0\n",
       "city        0\n",
       "reason      0\n",
       "gender      3\n",
       "dtype: int64"
      ]
     },
     "execution_count": 4,
     "metadata": {},
     "output_type": "execute_result"
    }
   ],
   "source": [
    "df.isnull().sum()"
   ]
  },
  {
   "cell_type": "code",
   "execution_count": 42,
   "id": "e7321f97",
   "metadata": {},
   "outputs": [],
   "source": [
    "df.dropna(inplace=True)"
   ]
  },
  {
   "cell_type": "code",
   "execution_count": 43,
   "id": "01fb6fc1",
   "metadata": {},
   "outputs": [
    {
     "data": {
      "text/plain": [
       "username    0\n",
       "name        0\n",
       "city        0\n",
       "reason      0\n",
       "gender      0\n",
       "dtype: int64"
      ]
     },
     "execution_count": 43,
     "metadata": {},
     "output_type": "execute_result"
    }
   ],
   "source": [
    "df.isnull().sum()"
   ]
  },
  {
   "cell_type": "code",
   "execution_count": 7,
   "id": "52aa55f6",
   "metadata": {},
   "outputs": [
    {
     "name": "stdout",
     "output_type": "stream",
     "text": [
      "Tehran         78\n",
      "Shiraz         30\n",
      "foreign         6\n",
      "kerman          6\n",
      "Tabriz          6\n",
      "karaj           6\n",
      "Boshehr         5\n",
      "Mashhad         4\n",
      "custom          4\n",
      "Ahwaz           3\n",
      "BandarAbbas     3\n",
      "gorgan          3\n",
      "Saravan         2\n",
      "Gheshm          2\n",
      "behbahan        2\n",
      "Shahrkord       2\n",
      "Esfehan         2\n",
      "Bandarlenge     2\n",
      "Norabad         1\n",
      "Sanandaj        1\n",
      "Yazd            1\n",
      "Gilan           1\n",
      "Ghazvin         1\n",
      "ghom            1\n",
      "Name: city, dtype: int64\n",
      "y    52\n",
      "u    49\n",
      "h    29\n",
      "a    12\n",
      "g    12\n",
      "s    10\n",
      "f     4\n",
      "i     3\n",
      "o     1\n",
      "Name: reason, dtype: int64\n",
      "male      144\n",
      "female     28\n",
      "Name: gender, dtype: int64\n"
     ]
    }
   ],
   "source": [
    "col_names = ['city','reason','gender']\n",
    "\n",
    "for col in col_names:\n",
    "    \n",
    "    print(df[col].value_counts())  "
   ]
  },
  {
   "cell_type": "code",
   "execution_count": 8,
   "id": "94c61c63",
   "metadata": {},
   "outputs": [],
   "source": [
    "#removing customs"
   ]
  },
  {
   "cell_type": "code",
   "execution_count": 9,
   "id": "1b761837",
   "metadata": {},
   "outputs": [],
   "source": [
    "#df.drop(df[df['city'] != 'custom'].index, axis=1,inplace = True)\n",
    "df2 = df.loc[df[\"city\"] != 'custom' ]\n"
   ]
  },
  {
   "cell_type": "code",
   "execution_count": 10,
   "id": "faa60e69",
   "metadata": {},
   "outputs": [
    {
     "data": {
      "text/html": [
       "<div>\n",
       "<style scoped>\n",
       "    .dataframe tbody tr th:only-of-type {\n",
       "        vertical-align: middle;\n",
       "    }\n",
       "\n",
       "    .dataframe tbody tr th {\n",
       "        vertical-align: top;\n",
       "    }\n",
       "\n",
       "    .dataframe thead th {\n",
       "        text-align: right;\n",
       "    }\n",
       "</style>\n",
       "<table border=\"1\" class=\"dataframe\">\n",
       "  <thead>\n",
       "    <tr style=\"text-align: right;\">\n",
       "      <th></th>\n",
       "      <th>username</th>\n",
       "      <th>name</th>\n",
       "      <th>city</th>\n",
       "      <th>reason</th>\n",
       "      <th>gender</th>\n",
       "    </tr>\n",
       "  </thead>\n",
       "  <tbody>\n",
       "    <tr>\n",
       "      <th>0</th>\n",
       "      <td>taha</td>\n",
       "      <td>???? ?????</td>\n",
       "      <td>Tehran</td>\n",
       "      <td>f</td>\n",
       "      <td>male</td>\n",
       "    </tr>\n",
       "    <tr>\n",
       "      <th>2</th>\n",
       "      <td>1</td>\n",
       "      <td>???? ?????</td>\n",
       "      <td>Tehran</td>\n",
       "      <td>f</td>\n",
       "      <td>female</td>\n",
       "    </tr>\n",
       "    <tr>\n",
       "      <th>3</th>\n",
       "      <td>2</td>\n",
       "      <td>???? ????</td>\n",
       "      <td>Shiraz</td>\n",
       "      <td>a</td>\n",
       "      <td>male</td>\n",
       "    </tr>\n",
       "    <tr>\n",
       "      <th>4</th>\n",
       "      <td>3</td>\n",
       "      <td>???? ?????</td>\n",
       "      <td>Shiraz</td>\n",
       "      <td>u</td>\n",
       "      <td>female</td>\n",
       "    </tr>\n",
       "    <tr>\n",
       "      <th>5</th>\n",
       "      <td>4</td>\n",
       "      <td>???? ?????????</td>\n",
       "      <td>Ahwaz</td>\n",
       "      <td>u</td>\n",
       "      <td>female</td>\n",
       "    </tr>\n",
       "    <tr>\n",
       "      <th>...</th>\n",
       "      <td>...</td>\n",
       "      <td>...</td>\n",
       "      <td>...</td>\n",
       "      <td>...</td>\n",
       "      <td>...</td>\n",
       "    </tr>\n",
       "    <tr>\n",
       "      <th>170</th>\n",
       "      <td>169</td>\n",
       "      <td>??????? ??????</td>\n",
       "      <td>Tehran</td>\n",
       "      <td>y</td>\n",
       "      <td>male</td>\n",
       "    </tr>\n",
       "    <tr>\n",
       "      <th>171</th>\n",
       "      <td>170</td>\n",
       "      <td>???? ???????</td>\n",
       "      <td>Tehran</td>\n",
       "      <td>i</td>\n",
       "      <td>female</td>\n",
       "    </tr>\n",
       "    <tr>\n",
       "      <th>172</th>\n",
       "      <td>171</td>\n",
       "      <td>???? ????????</td>\n",
       "      <td>Tehran</td>\n",
       "      <td>y</td>\n",
       "      <td>female</td>\n",
       "    </tr>\n",
       "    <tr>\n",
       "      <th>173</th>\n",
       "      <td>172</td>\n",
       "      <td>????? ?????</td>\n",
       "      <td>Tabriz</td>\n",
       "      <td>y</td>\n",
       "      <td>male</td>\n",
       "    </tr>\n",
       "    <tr>\n",
       "      <th>174</th>\n",
       "      <td>173</td>\n",
       "      <td>????? ?????</td>\n",
       "      <td>Shiraz</td>\n",
       "      <td>y</td>\n",
       "      <td>male</td>\n",
       "    </tr>\n",
       "  </tbody>\n",
       "</table>\n",
       "<p>168 rows × 5 columns</p>\n",
       "</div>"
      ],
      "text/plain": [
       "    username            name    city reason  gender\n",
       "0       taha      ???? ?????  Tehran      f    male\n",
       "2          1      ???? ?????  Tehran      f  female\n",
       "3          2       ???? ????  Shiraz      a    male\n",
       "4          3      ???? ?????  Shiraz      u  female\n",
       "5          4  ???? ?????????   Ahwaz      u  female\n",
       "..       ...             ...     ...    ...     ...\n",
       "170      169  ??????? ??????  Tehran      y    male\n",
       "171      170    ???? ???????  Tehran      i  female\n",
       "172      171   ???? ????????  Tehran      y  female\n",
       "173      172     ????? ?????  Tabriz      y    male\n",
       "174      173     ????? ?????  Shiraz      y    male\n",
       "\n",
       "[168 rows x 5 columns]"
      ]
     },
     "execution_count": 10,
     "metadata": {},
     "output_type": "execute_result"
    }
   ],
   "source": [
    "df2"
   ]
  },
  {
   "cell_type": "code",
   "execution_count": 11,
   "id": "2ce70f87",
   "metadata": {},
   "outputs": [
    {
     "name": "stdout",
     "output_type": "stream",
     "text": [
      "Tehran         78\n",
      "Shiraz         30\n",
      "foreign         6\n",
      "kerman          6\n",
      "Tabriz          6\n",
      "karaj           6\n",
      "Boshehr         5\n",
      "Mashhad         4\n",
      "Ahwaz           3\n",
      "BandarAbbas     3\n",
      "gorgan          3\n",
      "Saravan         2\n",
      "Gheshm          2\n",
      "behbahan        2\n",
      "Shahrkord       2\n",
      "Esfehan         2\n",
      "Bandarlenge     2\n",
      "Norabad         1\n",
      "Sanandaj        1\n",
      "Yazd            1\n",
      "Gilan           1\n",
      "Ghazvin         1\n",
      "ghom            1\n",
      "Name: city, dtype: int64\n",
      "y    52\n",
      "u    45\n",
      "h    29\n",
      "a    12\n",
      "g    12\n",
      "s    10\n",
      "f     4\n",
      "i     3\n",
      "o     1\n",
      "Name: reason, dtype: int64\n",
      "male      140\n",
      "female     28\n",
      "Name: gender, dtype: int64\n"
     ]
    }
   ],
   "source": [
    "col_names = ['city','reason','gender']\n",
    "\n",
    "for col in col_names:\n",
    "    \n",
    "    print(df2[col].value_counts())  "
   ]
  },
  {
   "cell_type": "code",
   "execution_count": 12,
   "id": "53f47dc4",
   "metadata": {},
   "outputs": [
    {
     "data": {
      "text/plain": [
       "<AxesSubplot:ylabel='None'>"
      ]
     },
     "execution_count": 12,
     "metadata": {},
     "output_type": "execute_result"
    },
    {
     "data": {
      "image/png": "[encoded data removed]",
      "text/plain": [
       "<Figure size 432x288 with 1 Axes>"
      ]
     },
     "metadata": {},
     "output_type": "display_data"
    }
   ],
   "source": [
    "import matplotlib.pyplot as plt\n",
    "%matplotlib inline\n",
    "df2.groupby('gender').size().plot(kind='pie', autopct='%.2f')"
   ]
  },
  {
   "cell_type": "code",
   "execution_count": 13,
   "id": "3469d17e",
   "metadata": {},
   "outputs": [
    {
     "data": {
      "text/html": [
       "<div>\n",
       "<style scoped>\n",
       "    .dataframe tbody tr th:only-of-type {\n",
       "        vertical-align: middle;\n",
       "    }\n",
       "\n",
       "    .dataframe tbody tr th {\n",
       "        vertical-align: top;\n",
       "    }\n",
       "\n",
       "    .dataframe thead th {\n",
       "        text-align: right;\n",
       "    }\n",
       "</style>\n",
       "<table border=\"1\" class=\"dataframe\">\n",
       "  <thead>\n",
       "    <tr style=\"text-align: right;\">\n",
       "      <th></th>\n",
       "      <th>username</th>\n",
       "      <th>name</th>\n",
       "      <th>city</th>\n",
       "      <th>reason</th>\n",
       "      <th>gender</th>\n",
       "    </tr>\n",
       "  </thead>\n",
       "  <tbody>\n",
       "    <tr>\n",
       "      <th>0</th>\n",
       "      <td>taha</td>\n",
       "      <td>???? ?????</td>\n",
       "      <td>Tehran</td>\n",
       "      <td>f</td>\n",
       "      <td>male</td>\n",
       "    </tr>\n",
       "    <tr>\n",
       "      <th>2</th>\n",
       "      <td>1</td>\n",
       "      <td>???? ?????</td>\n",
       "      <td>Tehran</td>\n",
       "      <td>f</td>\n",
       "      <td>female</td>\n",
       "    </tr>\n",
       "    <tr>\n",
       "      <th>3</th>\n",
       "      <td>2</td>\n",
       "      <td>???? ????</td>\n",
       "      <td>Shiraz</td>\n",
       "      <td>a</td>\n",
       "      <td>male</td>\n",
       "    </tr>\n",
       "    <tr>\n",
       "      <th>4</th>\n",
       "      <td>3</td>\n",
       "      <td>???? ?????</td>\n",
       "      <td>Shiraz</td>\n",
       "      <td>u</td>\n",
       "      <td>female</td>\n",
       "    </tr>\n",
       "    <tr>\n",
       "      <th>5</th>\n",
       "      <td>4</td>\n",
       "      <td>???? ?????????</td>\n",
       "      <td>Ahwaz</td>\n",
       "      <td>u</td>\n",
       "      <td>female</td>\n",
       "    </tr>\n",
       "    <tr>\n",
       "      <th>...</th>\n",
       "      <td>...</td>\n",
       "      <td>...</td>\n",
       "      <td>...</td>\n",
       "      <td>...</td>\n",
       "      <td>...</td>\n",
       "    </tr>\n",
       "    <tr>\n",
       "      <th>170</th>\n",
       "      <td>169</td>\n",
       "      <td>??????? ??????</td>\n",
       "      <td>Tehran</td>\n",
       "      <td>y</td>\n",
       "      <td>male</td>\n",
       "    </tr>\n",
       "    <tr>\n",
       "      <th>171</th>\n",
       "      <td>170</td>\n",
       "      <td>???? ???????</td>\n",
       "      <td>Tehran</td>\n",
       "      <td>i</td>\n",
       "      <td>female</td>\n",
       "    </tr>\n",
       "    <tr>\n",
       "      <th>172</th>\n",
       "      <td>171</td>\n",
       "      <td>???? ????????</td>\n",
       "      <td>Tehran</td>\n",
       "      <td>y</td>\n",
       "      <td>female</td>\n",
       "    </tr>\n",
       "    <tr>\n",
       "      <th>173</th>\n",
       "      <td>172</td>\n",
       "      <td>????? ?????</td>\n",
       "      <td>Tabriz</td>\n",
       "      <td>y</td>\n",
       "      <td>male</td>\n",
       "    </tr>\n",
       "    <tr>\n",
       "      <th>174</th>\n",
       "      <td>173</td>\n",
       "      <td>????? ?????</td>\n",
       "      <td>Shiraz</td>\n",
       "      <td>y</td>\n",
       "      <td>male</td>\n",
       "    </tr>\n",
       "  </tbody>\n",
       "</table>\n",
       "<p>168 rows × 5 columns</p>\n",
       "</div>"
      ],
      "text/plain": [
       "    username            name    city reason  gender\n",
       "0       taha      ???? ?????  Tehran      f    male\n",
       "2          1      ???? ?????  Tehran      f  female\n",
       "3          2       ???? ????  Shiraz      a    male\n",
       "4          3      ???? ?????  Shiraz      u  female\n",
       "5          4  ???? ?????????   Ahwaz      u  female\n",
       "..       ...             ...     ...    ...     ...\n",
       "170      169  ??????? ??????  Tehran      y    male\n",
       "171      170    ???? ???????  Tehran      i  female\n",
       "172      171   ???? ????????  Tehran      y  female\n",
       "173      172     ????? ?????  Tabriz      y    male\n",
       "174      173     ????? ?????  Shiraz      y    male\n",
       "\n",
       "[168 rows x 5 columns]"
      ]
     },
     "execution_count": 13,
     "metadata": {},
     "output_type": "execute_result"
    }
   ],
   "source": [
    "df2"
   ]
  },
  {
   "cell_type": "code",
   "execution_count": 14,
   "id": "93efd9b3",
   "metadata": {},
   "outputs": [],
   "source": [
    "df2=df2.drop(0)"
   ]
  },
  {
   "cell_type": "code",
   "execution_count": 15,
   "id": "88ee0b99",
   "metadata": {},
   "outputs": [
    {
     "data": {
      "text/html": [
       "<div>\n",
       "<style scoped>\n",
       "    .dataframe tbody tr th:only-of-type {\n",
       "        vertical-align: middle;\n",
       "    }\n",
       "\n",
       "    .dataframe tbody tr th {\n",
       "        vertical-align: top;\n",
       "    }\n",
       "\n",
       "    .dataframe thead th {\n",
       "        text-align: right;\n",
       "    }\n",
       "</style>\n",
       "<table border=\"1\" class=\"dataframe\">\n",
       "  <thead>\n",
       "    <tr style=\"text-align: right;\">\n",
       "      <th></th>\n",
       "      <th>name</th>\n",
       "      <th>city</th>\n",
       "      <th>reason</th>\n",
       "      <th>gender</th>\n",
       "    </tr>\n",
       "  </thead>\n",
       "  <tbody>\n",
       "    <tr>\n",
       "      <th>2</th>\n",
       "      <td>???? ?????</td>\n",
       "      <td>Tehran</td>\n",
       "      <td>f</td>\n",
       "      <td>female</td>\n",
       "    </tr>\n",
       "    <tr>\n",
       "      <th>3</th>\n",
       "      <td>???? ????</td>\n",
       "      <td>Shiraz</td>\n",
       "      <td>a</td>\n",
       "      <td>male</td>\n",
       "    </tr>\n",
       "    <tr>\n",
       "      <th>4</th>\n",
       "      <td>???? ?????</td>\n",
       "      <td>Shiraz</td>\n",
       "      <td>u</td>\n",
       "      <td>female</td>\n",
       "    </tr>\n",
       "    <tr>\n",
       "      <th>5</th>\n",
       "      <td>???? ?????????</td>\n",
       "      <td>Ahwaz</td>\n",
       "      <td>u</td>\n",
       "      <td>female</td>\n",
       "    </tr>\n",
       "    <tr>\n",
       "      <th>6</th>\n",
       "      <td>????? ?????</td>\n",
       "      <td>Tehran</td>\n",
       "      <td>s</td>\n",
       "      <td>male</td>\n",
       "    </tr>\n",
       "    <tr>\n",
       "      <th>...</th>\n",
       "      <td>...</td>\n",
       "      <td>...</td>\n",
       "      <td>...</td>\n",
       "      <td>...</td>\n",
       "    </tr>\n",
       "    <tr>\n",
       "      <th>170</th>\n",
       "      <td>??????? ??????</td>\n",
       "      <td>Tehran</td>\n",
       "      <td>y</td>\n",
       "      <td>male</td>\n",
       "    </tr>\n",
       "    <tr>\n",
       "      <th>171</th>\n",
       "      <td>???? ???????</td>\n",
       "      <td>Tehran</td>\n",
       "      <td>i</td>\n",
       "      <td>female</td>\n",
       "    </tr>\n",
       "    <tr>\n",
       "      <th>172</th>\n",
       "      <td>???? ????????</td>\n",
       "      <td>Tehran</td>\n",
       "      <td>y</td>\n",
       "      <td>female</td>\n",
       "    </tr>\n",
       "    <tr>\n",
       "      <th>173</th>\n",
       "      <td>????? ?????</td>\n",
       "      <td>Tabriz</td>\n",
       "      <td>y</td>\n",
       "      <td>male</td>\n",
       "    </tr>\n",
       "    <tr>\n",
       "      <th>174</th>\n",
       "      <td>????? ?????</td>\n",
       "      <td>Shiraz</td>\n",
       "      <td>y</td>\n",
       "      <td>male</td>\n",
       "    </tr>\n",
       "  </tbody>\n",
       "</table>\n",
       "<p>167 rows × 4 columns</p>\n",
       "</div>"
      ],
      "text/plain": [
       "               name    city reason  gender\n",
       "2        ???? ?????  Tehran      f  female\n",
       "3         ???? ????  Shiraz      a    male\n",
       "4        ???? ?????  Shiraz      u  female\n",
       "5    ???? ?????????   Ahwaz      u  female\n",
       "6       ????? ?????  Tehran      s    male\n",
       "..              ...     ...    ...     ...\n",
       "170  ??????? ??????  Tehran      y    male\n",
       "171    ???? ???????  Tehran      i  female\n",
       "172   ???? ????????  Tehran      y  female\n",
       "173     ????? ?????  Tabriz      y    male\n",
       "174     ????? ?????  Shiraz      y    male\n",
       "\n",
       "[167 rows x 4 columns]"
      ]
     },
     "execution_count": 15,
     "metadata": {},
     "output_type": "execute_result"
    }
   ],
   "source": [
    "df2 = df2.drop('username', axis=1)\n",
    "df2"
   ]
  },
  {
   "cell_type": "code",
   "execution_count": 16,
   "id": "246ee556",
   "metadata": {},
   "outputs": [],
   "source": [
    "df2 = df2.drop(df2.columns[[0]], axis=1)"
   ]
  },
  {
   "cell_type": "code",
   "execution_count": 17,
   "id": "303b9880",
   "metadata": {},
   "outputs": [
    {
     "data": {
      "text/html": [
       "<div>\n",
       "<style scoped>\n",
       "    .dataframe tbody tr th:only-of-type {\n",
       "        vertical-align: middle;\n",
       "    }\n",
       "\n",
       "    .dataframe tbody tr th {\n",
       "        vertical-align: top;\n",
       "    }\n",
       "\n",
       "    .dataframe thead th {\n",
       "        text-align: right;\n",
       "    }\n",
       "</style>\n",
       "<table border=\"1\" class=\"dataframe\">\n",
       "  <thead>\n",
       "    <tr style=\"text-align: right;\">\n",
       "      <th></th>\n",
       "      <th>city</th>\n",
       "      <th>reason</th>\n",
       "      <th>gender</th>\n",
       "    </tr>\n",
       "  </thead>\n",
       "  <tbody>\n",
       "    <tr>\n",
       "      <th>2</th>\n",
       "      <td>Tehran</td>\n",
       "      <td>f</td>\n",
       "      <td>female</td>\n",
       "    </tr>\n",
       "    <tr>\n",
       "      <th>3</th>\n",
       "      <td>Shiraz</td>\n",
       "      <td>a</td>\n",
       "      <td>male</td>\n",
       "    </tr>\n",
       "    <tr>\n",
       "      <th>4</th>\n",
       "      <td>Shiraz</td>\n",
       "      <td>u</td>\n",
       "      <td>female</td>\n",
       "    </tr>\n",
       "    <tr>\n",
       "      <th>5</th>\n",
       "      <td>Ahwaz</td>\n",
       "      <td>u</td>\n",
       "      <td>female</td>\n",
       "    </tr>\n",
       "    <tr>\n",
       "      <th>6</th>\n",
       "      <td>Tehran</td>\n",
       "      <td>s</td>\n",
       "      <td>male</td>\n",
       "    </tr>\n",
       "    <tr>\n",
       "      <th>...</th>\n",
       "      <td>...</td>\n",
       "      <td>...</td>\n",
       "      <td>...</td>\n",
       "    </tr>\n",
       "    <tr>\n",
       "      <th>170</th>\n",
       "      <td>Tehran</td>\n",
       "      <td>y</td>\n",
       "      <td>male</td>\n",
       "    </tr>\n",
       "    <tr>\n",
       "      <th>171</th>\n",
       "      <td>Tehran</td>\n",
       "      <td>i</td>\n",
       "      <td>female</td>\n",
       "    </tr>\n",
       "    <tr>\n",
       "      <th>172</th>\n",
       "      <td>Tehran</td>\n",
       "      <td>y</td>\n",
       "      <td>female</td>\n",
       "    </tr>\n",
       "    <tr>\n",
       "      <th>173</th>\n",
       "      <td>Tabriz</td>\n",
       "      <td>y</td>\n",
       "      <td>male</td>\n",
       "    </tr>\n",
       "    <tr>\n",
       "      <th>174</th>\n",
       "      <td>Shiraz</td>\n",
       "      <td>y</td>\n",
       "      <td>male</td>\n",
       "    </tr>\n",
       "  </tbody>\n",
       "</table>\n",
       "<p>167 rows × 3 columns</p>\n",
       "</div>"
      ],
      "text/plain": [
       "       city reason  gender\n",
       "2    Tehran      f  female\n",
       "3    Shiraz      a    male\n",
       "4    Shiraz      u  female\n",
       "5     Ahwaz      u  female\n",
       "6    Tehran      s    male\n",
       "..      ...    ...     ...\n",
       "170  Tehran      y    male\n",
       "171  Tehran      i  female\n",
       "172  Tehran      y  female\n",
       "173  Tabriz      y    male\n",
       "174  Shiraz      y    male\n",
       "\n",
       "[167 rows x 3 columns]"
      ]
     },
     "execution_count": 17,
     "metadata": {},
     "output_type": "execute_result"
    }
   ],
   "source": [
    "df2"
   ]
  },
  {
   "cell_type": "code",
   "execution_count": 18,
   "id": "5a1dacad",
   "metadata": {},
   "outputs": [
    {
     "data": {
      "text/html": [
       "<div>\n",
       "<style scoped>\n",
       "    .dataframe tbody tr th:only-of-type {\n",
       "        vertical-align: middle;\n",
       "    }\n",
       "\n",
       "    .dataframe tbody tr th {\n",
       "        vertical-align: top;\n",
       "    }\n",
       "\n",
       "    .dataframe thead th {\n",
       "        text-align: right;\n",
       "    }\n",
       "</style>\n",
       "<table border=\"1\" class=\"dataframe\">\n",
       "  <thead>\n",
       "    <tr style=\"text-align: right;\">\n",
       "      <th></th>\n",
       "      <th>city</th>\n",
       "      <th>reason</th>\n",
       "      <th>gender</th>\n",
       "    </tr>\n",
       "  </thead>\n",
       "  <tbody>\n",
       "    <tr>\n",
       "      <th>2</th>\n",
       "      <td>Tehran</td>\n",
       "      <td>f</td>\n",
       "      <td>female</td>\n",
       "    </tr>\n",
       "    <tr>\n",
       "      <th>3</th>\n",
       "      <td>Shiraz</td>\n",
       "      <td>a</td>\n",
       "      <td>male</td>\n",
       "    </tr>\n",
       "    <tr>\n",
       "      <th>4</th>\n",
       "      <td>Shiraz</td>\n",
       "      <td>u</td>\n",
       "      <td>female</td>\n",
       "    </tr>\n",
       "    <tr>\n",
       "      <th>5</th>\n",
       "      <td>Ahwaz</td>\n",
       "      <td>u</td>\n",
       "      <td>female</td>\n",
       "    </tr>\n",
       "    <tr>\n",
       "      <th>6</th>\n",
       "      <td>Tehran</td>\n",
       "      <td>s</td>\n",
       "      <td>male</td>\n",
       "    </tr>\n",
       "    <tr>\n",
       "      <th>...</th>\n",
       "      <td>...</td>\n",
       "      <td>...</td>\n",
       "      <td>...</td>\n",
       "    </tr>\n",
       "    <tr>\n",
       "      <th>170</th>\n",
       "      <td>Tehran</td>\n",
       "      <td>y</td>\n",
       "      <td>male</td>\n",
       "    </tr>\n",
       "    <tr>\n",
       "      <th>171</th>\n",
       "      <td>Tehran</td>\n",
       "      <td>i</td>\n",
       "      <td>female</td>\n",
       "    </tr>\n",
       "    <tr>\n",
       "      <th>172</th>\n",
       "      <td>Tehran</td>\n",
       "      <td>y</td>\n",
       "      <td>female</td>\n",
       "    </tr>\n",
       "    <tr>\n",
       "      <th>173</th>\n",
       "      <td>Tabriz</td>\n",
       "      <td>y</td>\n",
       "      <td>male</td>\n",
       "    </tr>\n",
       "    <tr>\n",
       "      <th>174</th>\n",
       "      <td>Shiraz</td>\n",
       "      <td>y</td>\n",
       "      <td>male</td>\n",
       "    </tr>\n",
       "  </tbody>\n",
       "</table>\n",
       "<p>167 rows × 3 columns</p>\n",
       "</div>"
      ],
      "text/plain": [
       "       city reason  gender\n",
       "2    Tehran      f  female\n",
       "3    Shiraz      a    male\n",
       "4    Shiraz      u  female\n",
       "5     Ahwaz      u  female\n",
       "6    Tehran      s    male\n",
       "..      ...    ...     ...\n",
       "170  Tehran      y    male\n",
       "171  Tehran      i  female\n",
       "172  Tehran      y  female\n",
       "173  Tabriz      y    male\n",
       "174  Shiraz      y    male\n",
       "\n",
       "[167 rows x 3 columns]"
      ]
     },
     "execution_count": 18,
     "metadata": {},
     "output_type": "execute_result"
    }
   ],
   "source": [
    "x=df2.iloc[:,:]\n",
    "x"
   ]
  },
  {
   "cell_type": "code",
   "execution_count": 19,
   "id": "ef50c2fa",
   "metadata": {},
   "outputs": [],
   "source": [
    "from sklearn.preprocessing import LabelEncoder\n",
    "from sklearn import preprocessing\n"
   ]
  },
  {
   "cell_type": "code",
   "execution_count": 20,
   "id": "d1d86401",
   "metadata": {},
   "outputs": [],
   "source": [
    "# df2['class']=df['class'].map({'unacc':1,'acc':2,\n",
    "#                              'good':3,'vgood':4})"
   ]
  },
  {
   "cell_type": "code",
   "execution_count": 21,
   "id": "d4d3db14",
   "metadata": {},
   "outputs": [
    {
     "data": {
      "text/plain": [
       "LabelEncoder()"
      ]
     },
     "execution_count": 21,
     "metadata": {},
     "output_type": "execute_result"
    }
   ],
   "source": [
    "le = preprocessing.LabelEncoder()\n",
    "le.fit(df2.city)"
   ]
  },
  {
   "cell_type": "code",
   "execution_count": 22,
   "id": "44487957",
   "metadata": {},
   "outputs": [
    {
     "data": {
      "text/plain": [
       "['Ahwaz',\n",
       " 'BandarAbbas',\n",
       " 'Bandarlenge',\n",
       " 'Boshehr',\n",
       " 'Esfehan',\n",
       " 'Ghazvin',\n",
       " 'Gheshm',\n",
       " 'Gilan',\n",
       " 'Mashhad',\n",
       " 'Norabad',\n",
       " 'Sanandaj',\n",
       " 'Saravan',\n",
       " 'Shahrkord',\n",
       " 'Shiraz',\n",
       " 'Tabriz',\n",
       " 'Tehran',\n",
       " 'Yazd',\n",
       " 'behbahan',\n",
       " 'foreign',\n",
       " 'ghom',\n",
       " 'gorgan',\n",
       " 'karaj',\n",
       " 'kerman']"
      ]
     },
     "execution_count": 22,
     "metadata": {},
     "output_type": "execute_result"
    }
   ],
   "source": [
    "list(le.classes_)"
   ]
  },
  {
   "cell_type": "code",
   "execution_count": 23,
   "id": "3209f4b5",
   "metadata": {},
   "outputs": [],
   "source": [
    "df2.city=le.transform(df2.city)"
   ]
  },
  {
   "cell_type": "code",
   "execution_count": 24,
   "id": "8f02d184",
   "metadata": {},
   "outputs": [
    {
     "data": {
      "text/html": [
       "<div>\n",
       "<style scoped>\n",
       "    .dataframe tbody tr th:only-of-type {\n",
       "        vertical-align: middle;\n",
       "    }\n",
       "\n",
       "    .dataframe tbody tr th {\n",
       "        vertical-align: top;\n",
       "    }\n",
       "\n",
       "    .dataframe thead th {\n",
       "        text-align: right;\n",
       "    }\n",
       "</style>\n",
       "<table border=\"1\" class=\"dataframe\">\n",
       "  <thead>\n",
       "    <tr style=\"text-align: right;\">\n",
       "      <th></th>\n",
       "      <th>city</th>\n",
       "      <th>reason</th>\n",
       "      <th>gender</th>\n",
       "    </tr>\n",
       "  </thead>\n",
       "  <tbody>\n",
       "    <tr>\n",
       "      <th>2</th>\n",
       "      <td>15</td>\n",
       "      <td>f</td>\n",
       "      <td>female</td>\n",
       "    </tr>\n",
       "    <tr>\n",
       "      <th>3</th>\n",
       "      <td>13</td>\n",
       "      <td>a</td>\n",
       "      <td>male</td>\n",
       "    </tr>\n",
       "    <tr>\n",
       "      <th>4</th>\n",
       "      <td>13</td>\n",
       "      <td>u</td>\n",
       "      <td>female</td>\n",
       "    </tr>\n",
       "    <tr>\n",
       "      <th>5</th>\n",
       "      <td>0</td>\n",
       "      <td>u</td>\n",
       "      <td>female</td>\n",
       "    </tr>\n",
       "    <tr>\n",
       "      <th>6</th>\n",
       "      <td>15</td>\n",
       "      <td>s</td>\n",
       "      <td>male</td>\n",
       "    </tr>\n",
       "    <tr>\n",
       "      <th>...</th>\n",
       "      <td>...</td>\n",
       "      <td>...</td>\n",
       "      <td>...</td>\n",
       "    </tr>\n",
       "    <tr>\n",
       "      <th>170</th>\n",
       "      <td>15</td>\n",
       "      <td>y</td>\n",
       "      <td>male</td>\n",
       "    </tr>\n",
       "    <tr>\n",
       "      <th>171</th>\n",
       "      <td>15</td>\n",
       "      <td>i</td>\n",
       "      <td>female</td>\n",
       "    </tr>\n",
       "    <tr>\n",
       "      <th>172</th>\n",
       "      <td>15</td>\n",
       "      <td>y</td>\n",
       "      <td>female</td>\n",
       "    </tr>\n",
       "    <tr>\n",
       "      <th>173</th>\n",
       "      <td>14</td>\n",
       "      <td>y</td>\n",
       "      <td>male</td>\n",
       "    </tr>\n",
       "    <tr>\n",
       "      <th>174</th>\n",
       "      <td>13</td>\n",
       "      <td>y</td>\n",
       "      <td>male</td>\n",
       "    </tr>\n",
       "  </tbody>\n",
       "</table>\n",
       "<p>167 rows × 3 columns</p>\n",
       "</div>"
      ],
      "text/plain": [
       "     city reason  gender\n",
       "2      15      f  female\n",
       "3      13      a    male\n",
       "4      13      u  female\n",
       "5       0      u  female\n",
       "6      15      s    male\n",
       "..    ...    ...     ...\n",
       "170    15      y    male\n",
       "171    15      i  female\n",
       "172    15      y  female\n",
       "173    14      y    male\n",
       "174    13      y    male\n",
       "\n",
       "[167 rows x 3 columns]"
      ]
     },
     "execution_count": 24,
     "metadata": {},
     "output_type": "execute_result"
    }
   ],
   "source": [
    "df2"
   ]
  },
  {
   "cell_type": "code",
   "execution_count": 25,
   "id": "dce3d75c",
   "metadata": {},
   "outputs": [
    {
     "data": {
      "text/plain": [
       "LabelEncoder()"
      ]
     },
     "execution_count": 25,
     "metadata": {},
     "output_type": "execute_result"
    }
   ],
   "source": [
    "le = preprocessing.LabelEncoder()\n",
    "le.fit(df2.reason)"
   ]
  },
  {
   "cell_type": "code",
   "execution_count": 26,
   "id": "1625f072",
   "metadata": {},
   "outputs": [
    {
     "data": {
      "text/plain": [
       "['a', 'f', 'g', 'h', 'i', 'o', 's', 'u', 'y']"
      ]
     },
     "execution_count": 26,
     "metadata": {},
     "output_type": "execute_result"
    }
   ],
   "source": [
    "list(le.classes_)"
   ]
  },
  {
   "cell_type": "code",
   "execution_count": 27,
   "id": "614aee3b",
   "metadata": {},
   "outputs": [],
   "source": [
    "df2.reason=le.transform(df2.reason)"
   ]
  },
  {
   "cell_type": "code",
   "execution_count": 28,
   "id": "fef15d6c",
   "metadata": {},
   "outputs": [
    {
     "data": {
      "text/html": [
       "<div>\n",
       "<style scoped>\n",
       "    .dataframe tbody tr th:only-of-type {\n",
       "        vertical-align: middle;\n",
       "    }\n",
       "\n",
       "    .dataframe tbody tr th {\n",
       "        vertical-align: top;\n",
       "    }\n",
       "\n",
       "    .dataframe thead th {\n",
       "        text-align: right;\n",
       "    }\n",
       "</style>\n",
       "<table border=\"1\" class=\"dataframe\">\n",
       "  <thead>\n",
       "    <tr style=\"text-align: right;\">\n",
       "      <th></th>\n",
       "      <th>city</th>\n",
       "      <th>reason</th>\n",
       "      <th>gender</th>\n",
       "    </tr>\n",
       "  </thead>\n",
       "  <tbody>\n",
       "    <tr>\n",
       "      <th>2</th>\n",
       "      <td>15</td>\n",
       "      <td>1</td>\n",
       "      <td>female</td>\n",
       "    </tr>\n",
       "    <tr>\n",
       "      <th>3</th>\n",
       "      <td>13</td>\n",
       "      <td>0</td>\n",
       "      <td>male</td>\n",
       "    </tr>\n",
       "    <tr>\n",
       "      <th>4</th>\n",
       "      <td>13</td>\n",
       "      <td>7</td>\n",
       "      <td>female</td>\n",
       "    </tr>\n",
       "    <tr>\n",
       "      <th>5</th>\n",
       "      <td>0</td>\n",
       "      <td>7</td>\n",
       "      <td>female</td>\n",
       "    </tr>\n",
       "    <tr>\n",
       "      <th>6</th>\n",
       "      <td>15</td>\n",
       "      <td>6</td>\n",
       "      <td>male</td>\n",
       "    </tr>\n",
       "    <tr>\n",
       "      <th>...</th>\n",
       "      <td>...</td>\n",
       "      <td>...</td>\n",
       "      <td>...</td>\n",
       "    </tr>\n",
       "    <tr>\n",
       "      <th>170</th>\n",
       "      <td>15</td>\n",
       "      <td>8</td>\n",
       "      <td>male</td>\n",
       "    </tr>\n",
       "    <tr>\n",
       "      <th>171</th>\n",
       "      <td>15</td>\n",
       "      <td>4</td>\n",
       "      <td>female</td>\n",
       "    </tr>\n",
       "    <tr>\n",
       "      <th>172</th>\n",
       "      <td>15</td>\n",
       "      <td>8</td>\n",
       "      <td>female</td>\n",
       "    </tr>\n",
       "    <tr>\n",
       "      <th>173</th>\n",
       "      <td>14</td>\n",
       "      <td>8</td>\n",
       "      <td>male</td>\n",
       "    </tr>\n",
       "    <tr>\n",
       "      <th>174</th>\n",
       "      <td>13</td>\n",
       "      <td>8</td>\n",
       "      <td>male</td>\n",
       "    </tr>\n",
       "  </tbody>\n",
       "</table>\n",
       "<p>167 rows × 3 columns</p>\n",
       "</div>"
      ],
      "text/plain": [
       "     city  reason  gender\n",
       "2      15       1  female\n",
       "3      13       0    male\n",
       "4      13       7  female\n",
       "5       0       7  female\n",
       "6      15       6    male\n",
       "..    ...     ...     ...\n",
       "170    15       8    male\n",
       "171    15       4  female\n",
       "172    15       8  female\n",
       "173    14       8    male\n",
       "174    13       8    male\n",
       "\n",
       "[167 rows x 3 columns]"
      ]
     },
     "execution_count": 28,
     "metadata": {},
     "output_type": "execute_result"
    }
   ],
   "source": [
    "df2"
   ]
  },
  {
   "cell_type": "code",
   "execution_count": 29,
   "id": "385c48b2",
   "metadata": {},
   "outputs": [
    {
     "data": {
      "text/plain": [
       "LabelEncoder()"
      ]
     },
     "execution_count": 29,
     "metadata": {},
     "output_type": "execute_result"
    }
   ],
   "source": [
    "le = preprocessing.LabelEncoder()\n",
    "le.fit(df2.gender)"
   ]
  },
  {
   "cell_type": "code",
   "execution_count": 30,
   "id": "a8d4376f",
   "metadata": {},
   "outputs": [
    {
     "data": {
      "text/plain": [
       "['female', 'male']"
      ]
     },
     "execution_count": 30,
     "metadata": {},
     "output_type": "execute_result"
    }
   ],
   "source": [
    "list(le.classes_)"
   ]
  },
  {
   "cell_type": "code",
   "execution_count": 31,
   "id": "07967972",
   "metadata": {},
   "outputs": [],
   "source": [
    "df2.gender=le.transform(df2.gender)"
   ]
  },
  {
   "cell_type": "code",
   "execution_count": 32,
   "id": "fb6fc61b",
   "metadata": {},
   "outputs": [
    {
     "data": {
      "text/html": [
       "<div>\n",
       "<style scoped>\n",
       "    .dataframe tbody tr th:only-of-type {\n",
       "        vertical-align: middle;\n",
       "    }\n",
       "\n",
       "    .dataframe tbody tr th {\n",
       "        vertical-align: top;\n",
       "    }\n",
       "\n",
       "    .dataframe thead th {\n",
       "        text-align: right;\n",
       "    }\n",
       "</style>\n",
       "<table border=\"1\" class=\"dataframe\">\n",
       "  <thead>\n",
       "    <tr style=\"text-align: right;\">\n",
       "      <th></th>\n",
       "      <th>city</th>\n",
       "      <th>reason</th>\n",
       "      <th>gender</th>\n",
       "    </tr>\n",
       "  </thead>\n",
       "  <tbody>\n",
       "    <tr>\n",
       "      <th>2</th>\n",
       "      <td>15</td>\n",
       "      <td>1</td>\n",
       "      <td>0</td>\n",
       "    </tr>\n",
       "    <tr>\n",
       "      <th>3</th>\n",
       "      <td>13</td>\n",
       "      <td>0</td>\n",
       "      <td>1</td>\n",
       "    </tr>\n",
       "    <tr>\n",
       "      <th>4</th>\n",
       "      <td>13</td>\n",
       "      <td>7</td>\n",
       "      <td>0</td>\n",
       "    </tr>\n",
       "    <tr>\n",
       "      <th>5</th>\n",
       "      <td>0</td>\n",
       "      <td>7</td>\n",
       "      <td>0</td>\n",
       "    </tr>\n",
       "    <tr>\n",
       "      <th>6</th>\n",
       "      <td>15</td>\n",
       "      <td>6</td>\n",
       "      <td>1</td>\n",
       "    </tr>\n",
       "    <tr>\n",
       "      <th>...</th>\n",
       "      <td>...</td>\n",
       "      <td>...</td>\n",
       "      <td>...</td>\n",
       "    </tr>\n",
       "    <tr>\n",
       "      <th>170</th>\n",
       "      <td>15</td>\n",
       "      <td>8</td>\n",
       "      <td>1</td>\n",
       "    </tr>\n",
       "    <tr>\n",
       "      <th>171</th>\n",
       "      <td>15</td>\n",
       "      <td>4</td>\n",
       "      <td>0</td>\n",
       "    </tr>\n",
       "    <tr>\n",
       "      <th>172</th>\n",
       "      <td>15</td>\n",
       "      <td>8</td>\n",
       "      <td>0</td>\n",
       "    </tr>\n",
       "    <tr>\n",
       "      <th>173</th>\n",
       "      <td>14</td>\n",
       "      <td>8</td>\n",
       "      <td>1</td>\n",
       "    </tr>\n",
       "    <tr>\n",
       "      <th>174</th>\n",
       "      <td>13</td>\n",
       "      <td>8</td>\n",
       "      <td>1</td>\n",
       "    </tr>\n",
       "  </tbody>\n",
       "</table>\n",
       "<p>167 rows × 3 columns</p>\n",
       "</div>"
      ],
      "text/plain": [
       "     city  reason  gender\n",
       "2      15       1       0\n",
       "3      13       0       1\n",
       "4      13       7       0\n",
       "5       0       7       0\n",
       "6      15       6       1\n",
       "..    ...     ...     ...\n",
       "170    15       8       1\n",
       "171    15       4       0\n",
       "172    15       8       0\n",
       "173    14       8       1\n",
       "174    13       8       1\n",
       "\n",
       "[167 rows x 3 columns]"
      ]
     },
     "execution_count": 32,
     "metadata": {},
     "output_type": "execute_result"
    }
   ],
   "source": [
    "df2"
   ]
  },
  {
   "cell_type": "code",
   "execution_count": 33,
   "id": "5d4ed2b0",
   "metadata": {},
   "outputs": [
    {
     "data": {
      "text/plain": [
       "city      0\n",
       "reason    0\n",
       "gender    0\n",
       "dtype: int64"
      ]
     },
     "execution_count": 33,
     "metadata": {},
     "output_type": "execute_result"
    }
   ],
   "source": [
    "df2.isnull().sum()"
   ]
  },
  {
   "cell_type": "code",
   "execution_count": 34,
   "id": "4bdb9071",
   "metadata": {},
   "outputs": [],
   "source": [
    "#now data is clean"
   ]
  },
  {
   "cell_type": "code",
   "execution_count": 35,
   "id": "9472052e",
   "metadata": {},
   "outputs": [],
   "source": [
    "from sklearn.cluster import KMeans"
   ]
  },
  {
   "cell_type": "code",
   "execution_count": 36,
   "id": "2fd6b9d6",
   "metadata": {},
   "outputs": [],
   "source": [
    "model= KMeans(n_clusters=9)"
   ]
  },
  {
   "cell_type": "code",
   "execution_count": 37,
   "id": "fcd6b934",
   "metadata": {},
   "outputs": [
    {
     "data": {
      "text/plain": [
       "KMeans(n_clusters=9)"
      ]
     },
     "execution_count": 37,
     "metadata": {},
     "output_type": "execute_result"
    }
   ],
   "source": [
    "model.fit(df2)"
   ]
  },
  {
   "cell_type": "code",
   "execution_count": 38,
   "id": "08bb1ffd",
   "metadata": {},
   "outputs": [],
   "source": [
    "centroids=model.cluster_centers_"
   ]
  },
  {
   "cell_type": "code",
   "execution_count": 39,
   "id": "91a809b7",
   "metadata": {},
   "outputs": [
    {
     "data": {
      "text/plain": [
       "array([[15.        ,  7.47826087,  0.91304348],\n",
       "       [ 2.09090909,  7.09090909,  0.72727273],\n",
       "       [14.92307692,  2.76923077,  0.82051282],\n",
       "       [20.2       ,  7.6       ,  0.85      ],\n",
       "       [ 7.77777778,  5.66666667,  0.77777778],\n",
       "       [ 2.4       ,  1.2       ,  0.6       ],\n",
       "       [13.1       ,  0.2       ,  0.9       ],\n",
       "       [12.88      ,  7.16      ,  0.76      ],\n",
       "       [20.5       ,  1.        ,  1.        ]])"
      ]
     },
     "execution_count": 39,
     "metadata": {},
     "output_type": "execute_result"
    }
   ],
   "source": [
    "centroids"
   ]
  },
  {
   "cell_type": "code",
   "execution_count": 40,
   "id": "f12f1fd5",
   "metadata": {},
   "outputs": [
    {
     "data": {
      "text/plain": [
       "<matplotlib.collections.PathCollection at 0x211f9d5ff40>"
      ]
     },
     "execution_count": 40,
     "metadata": {},
     "output_type": "execute_result"
    },
    {
     "data": {
      "image/png": "[encoded data removed]",
      "text/plain": [
       "<Figure size 432x288 with 1 Axes>"
      ]
     },
     "metadata": {
      "needs_background": "light"
     },
     "output_type": "display_data"
    }
   ],
   "source": [
    "plt.scatter(df2[['city']],df2['reason'],c=model.labels_)\n",
    "plt.scatter(centroids[:,0],centroids[:,1],c='red',s=100)"
   ]
  },
  {
   "cell_type": "code",
   "execution_count": 41,
   "id": "2e7316f8",
   "metadata": {},
   "outputs": [
    {
     "name": "stderr",
     "output_type": "stream",
     "text": [
      "D:\\anaconda\\lib\\site-packages\\sklearn\\base.py:450: UserWarning: X does not have valid feature names, but KMeans was fitted with feature names\n",
      "  warnings.warn(\n"
     ]
    },
    {
     "data": {
      "text/plain": [
       "array([5])"
      ]
     },
     "execution_count": 41,
     "metadata": {},
     "output_type": "execute_result"
    }
   ],
   "source": [
    "p=[1,2,3]\n",
    "model.predict([p])"
   ]
  },
  {
   "cell_type": "code",
   "execution_count": null,
   "id": "1e8ca31b",
   "metadata": {},
   "outputs": [],
   "source": []
  }
 ],
 "metadata": {
  "kernelspec": {
   "display_name": "Python 3 (ipykernel)",
   "language": "python",
   "name": "python3"
  },
  "language_info": {
   "codemirror_mode": {
    "name": "ipython",
    "version": 3
   },
   "file_extension": ".py",
   "mimetype": "text/x-python",
   "name": "python",
   "nbconvert_exporter": "python",
   "pygments_lexer": "ipython3",
   "version": "3.9.12"
  }
 },
 "nbformat": 4,
 "nbformat_minor": 5
}
