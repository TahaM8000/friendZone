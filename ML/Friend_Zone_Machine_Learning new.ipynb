{
  "cells": [
    {
      "cell_type": "code",
      "execution_count": 1,
      "id": "9df13bcd",
      "metadata": {
        "id": "9df13bcd"
      },
      "outputs": [],
      "source": [
        "import numpy as np\n",
        "import pandas as pd\n",
        "import matplotlib.pyplot as plt\n",
        "%matplotlib inline\n",
        "import seaborn as sns"
      ]
    },
    {
      "cell_type": "code",
      "execution_count": 2,
      "id": "58746708",
      "metadata": {
        "id": "58746708"
      },
      "outputs": [],
      "source": [
        "df=pd.read_csv('/content/Friendzone Clean Dataset.csv')"
      ]
    },
    {
      "cell_type": "code",
      "execution_count": 3,
      "id": "e8121334",
      "metadata": {
        "id": "e8121334"
      },
      "outputs": [],
      "source": [
        "df = df.drop(df.columns[[0]], axis=1)"
      ]
    },
    {
      "cell_type": "code",
      "execution_count": 4,
      "id": "d0fca820",
      "metadata": {
        "colab": {
          "base_uri": "https://localhost:8080/",
          "height": 206
        },
        "id": "d0fca820",
        "outputId": "4baf42dd-ac55-4c8f-9d83-20527af6addb"
      },
      "outputs": [
        {
          "output_type": "execute_result",
          "data": {
            "text/plain": [
              "   city  reason  gender\n",
              "0    15       1       0\n",
              "1    13       0       1\n",
              "2    13       7       0\n",
              "3     0       7       0\n",
              "4    15       6       1"
            ],
            "text/html": [
              "\n",
              "\n",
              "  <div id=\"df-dfd667d2-529d-41b7-a654-2c4f6028f740\">\n",
              "    <div class=\"colab-df-container\">\n",
              "      <div>\n",
              "<style scoped>\n",
              "    .dataframe tbody tr th:only-of-type {\n",
              "        vertical-align: middle;\n",
              "    }\n",
              "\n",
              "    .dataframe tbody tr th {\n",
              "        vertical-align: top;\n",
              "    }\n",
              "\n",
              "    .dataframe thead th {\n",
              "        text-align: right;\n",
              "    }\n",
              "</style>\n",
              "<table border=\"1\" class=\"dataframe\">\n",
              "  <thead>\n",
              "    <tr style=\"text-align: right;\">\n",
              "      <th></th>\n",
              "      <th>city</th>\n",
              "      <th>reason</th>\n",
              "      <th>gender</th>\n",
              "    </tr>\n",
              "  </thead>\n",
              "  <tbody>\n",
              "    <tr>\n",
              "      <th>0</th>\n",
              "      <td>15</td>\n",
              "      <td>1</td>\n",
              "      <td>0</td>\n",
              "    </tr>\n",
              "    <tr>\n",
              "      <th>1</th>\n",
              "      <td>13</td>\n",
              "      <td>0</td>\n",
              "      <td>1</td>\n",
              "    </tr>\n",
              "    <tr>\n",
              "      <th>2</th>\n",
              "      <td>13</td>\n",
              "      <td>7</td>\n",
              "      <td>0</td>\n",
              "    </tr>\n",
              "    <tr>\n",
              "      <th>3</th>\n",
              "      <td>0</td>\n",
              "      <td>7</td>\n",
              "      <td>0</td>\n",
              "    </tr>\n",
              "    <tr>\n",
              "      <th>4</th>\n",
              "      <td>15</td>\n",
              "      <td>6</td>\n",
              "      <td>1</td>\n",
              "    </tr>\n",
              "  </tbody>\n",
              "</table>\n",
              "</div>\n",
              "      <button class=\"colab-df-convert\" onclick=\"convertToInteractive('df-dfd667d2-529d-41b7-a654-2c4f6028f740')\"\n",
              "              title=\"Convert this dataframe to an interactive table.\"\n",
              "              style=\"display:none;\">\n",
              "\n",
              "  <svg xmlns=\"http://www.w3.org/2000/svg\" height=\"24px\"viewBox=\"0 0 24 24\"\n",
              "       width=\"24px\">\n",
              "    <path d=\"M0 0h24v24H0V0z\" fill=\"none\"/>\n",
              "    <path d=\"M18.56 5.44l.94 2.06.94-2.06 2.06-.94-2.06-.94-.94-2.06-.94 2.06-2.06.94zm-11 1L8.5 8.5l.94-2.06 2.06-.94-2.06-.94L8.5 2.5l-.94 2.06-2.06.94zm10 10l.94 2.06.94-2.06 2.06-.94-2.06-.94-.94-2.06-.94 2.06-2.06.94z\"/><path d=\"M17.41 7.96l-1.37-1.37c-.4-.4-.92-.59-1.43-.59-.52 0-1.04.2-1.43.59L10.3 9.45l-7.72 7.72c-.78.78-.78 2.05 0 2.83L4 21.41c.39.39.9.59 1.41.59.51 0 1.02-.2 1.41-.59l7.78-7.78 2.81-2.81c.8-.78.8-2.07 0-2.86zM5.41 20L4 18.59l7.72-7.72 1.47 1.35L5.41 20z\"/>\n",
              "  </svg>\n",
              "      </button>\n",
              "\n",
              "\n",
              "\n",
              "    <div id=\"df-ffd531ed-d637-40e5-82a5-8face139fbe6\">\n",
              "      <button class=\"colab-df-quickchart\" onclick=\"quickchart('df-ffd531ed-d637-40e5-82a5-8face139fbe6')\"\n",
              "              title=\"Suggest charts.\"\n",
              "              style=\"display:none;\">\n",
              "\n",
              "<svg xmlns=\"http://www.w3.org/2000/svg\" height=\"24px\"viewBox=\"0 0 24 24\"\n",
              "     width=\"24px\">\n",
              "    <g>\n",
              "        <path d=\"M19 3H5c-1.1 0-2 .9-2 2v14c0 1.1.9 2 2 2h14c1.1 0 2-.9 2-2V5c0-1.1-.9-2-2-2zM9 17H7v-7h2v7zm4 0h-2V7h2v10zm4 0h-2v-4h2v4z\"/>\n",
              "    </g>\n",
              "</svg>\n",
              "      </button>\n",
              "    </div>\n",
              "\n",
              "<style>\n",
              "  .colab-df-quickchart {\n",
              "    background-color: #E8F0FE;\n",
              "    border: none;\n",
              "    border-radius: 50%;\n",
              "    cursor: pointer;\n",
              "    display: none;\n",
              "    fill: #1967D2;\n",
              "    height: 32px;\n",
              "    padding: 0 0 0 0;\n",
              "    width: 32px;\n",
              "  }\n",
              "\n",
              "  .colab-df-quickchart:hover {\n",
              "    background-color: #E2EBFA;\n",
              "    box-shadow: 0px 1px 2px rgba(60, 64, 67, 0.3), 0px 1px 3px 1px rgba(60, 64, 67, 0.15);\n",
              "    fill: #174EA6;\n",
              "  }\n",
              "\n",
              "  [theme=dark] .colab-df-quickchart {\n",
              "    background-color: #3B4455;\n",
              "    fill: #D2E3FC;\n",
              "  }\n",
              "\n",
              "  [theme=dark] .colab-df-quickchart:hover {\n",
              "    background-color: #434B5C;\n",
              "    box-shadow: 0px 1px 3px 1px rgba(0, 0, 0, 0.15);\n",
              "    filter: drop-shadow(0px 1px 2px rgba(0, 0, 0, 0.3));\n",
              "    fill: #FFFFFF;\n",
              "  }\n",
              "</style>\n",
              "\n",
              "    <script>\n",
              "      async function quickchart(key) {\n",
              "        const containerElement = document.querySelector('#' + key);\n",
              "        const charts = await google.colab.kernel.invokeFunction(\n",
              "            'suggestCharts', [key], {});\n",
              "      }\n",
              "    </script>\n",
              "\n",
              "      <script>\n",
              "\n",
              "function displayQuickchartButton(domScope) {\n",
              "  let quickchartButtonEl =\n",
              "    domScope.querySelector('#df-ffd531ed-d637-40e5-82a5-8face139fbe6 button.colab-df-quickchart');\n",
              "  quickchartButtonEl.style.display =\n",
              "    google.colab.kernel.accessAllowed ? 'block' : 'none';\n",
              "}\n",
              "\n",
              "        displayQuickchartButton(document);\n",
              "      </script>\n",
              "      <style>\n",
              "    .colab-df-container {\n",
              "      display:flex;\n",
              "      flex-wrap:wrap;\n",
              "      gap: 12px;\n",
              "    }\n",
              "\n",
              "    .colab-df-convert {\n",
              "      background-color: #E8F0FE;\n",
              "      border: none;\n",
              "      border-radius: 50%;\n",
              "      cursor: pointer;\n",
              "      display: none;\n",
              "      fill: #1967D2;\n",
              "      height: 32px;\n",
              "      padding: 0 0 0 0;\n",
              "      width: 32px;\n",
              "    }\n",
              "\n",
              "    .colab-df-convert:hover {\n",
              "      background-color: #E2EBFA;\n",
              "      box-shadow: 0px 1px 2px rgba(60, 64, 67, 0.3), 0px 1px 3px 1px rgba(60, 64, 67, 0.15);\n",
              "      fill: #174EA6;\n",
              "    }\n",
              "\n",
              "    [theme=dark] .colab-df-convert {\n",
              "      background-color: #3B4455;\n",
              "      fill: #D2E3FC;\n",
              "    }\n",
              "\n",
              "    [theme=dark] .colab-df-convert:hover {\n",
              "      background-color: #434B5C;\n",
              "      box-shadow: 0px 1px 3px 1px rgba(0, 0, 0, 0.15);\n",
              "      filter: drop-shadow(0px 1px 2px rgba(0, 0, 0, 0.3));\n",
              "      fill: #FFFFFF;\n",
              "    }\n",
              "  </style>\n",
              "\n",
              "      <script>\n",
              "        const buttonEl =\n",
              "          document.querySelector('#df-dfd667d2-529d-41b7-a654-2c4f6028f740 button.colab-df-convert');\n",
              "        buttonEl.style.display =\n",
              "          google.colab.kernel.accessAllowed ? 'block' : 'none';\n",
              "\n",
              "        async function convertToInteractive(key) {\n",
              "          const element = document.querySelector('#df-dfd667d2-529d-41b7-a654-2c4f6028f740');\n",
              "          const dataTable =\n",
              "            await google.colab.kernel.invokeFunction('convertToInteractive',\n",
              "                                                     [key], {});\n",
              "          if (!dataTable) return;\n",
              "\n",
              "          const docLinkHtml = 'Like what you see? Visit the ' +\n",
              "            '<a target=\"_blank\" href=https://colab.research.google.com/notebooks/data_table.ipynb>data table notebook</a>'\n",
              "            + ' to learn more about interactive tables.';\n",
              "          element.innerHTML = '';\n",
              "          dataTable['output_type'] = 'display_data';\n",
              "          await google.colab.output.renderOutput(dataTable, element);\n",
              "          const docLink = document.createElement('div');\n",
              "          docLink.innerHTML = docLinkHtml;\n",
              "          element.appendChild(docLink);\n",
              "        }\n",
              "      </script>\n",
              "    </div>\n",
              "  </div>\n"
            ]
          },
          "metadata": {},
          "execution_count": 4
        }
      ],
      "source": [
        "df.head()"
      ]
    },
    {
      "cell_type": "code",
      "source": [
        "X=df[['city','reason','gender']]"
      ],
      "metadata": {
        "id": "WUbIgnKBllDT"
      },
      "id": "WUbIgnKBllDT",
      "execution_count": 5,
      "outputs": []
    },
    {
      "cell_type": "code",
      "source": [
        "X=X.values.reshape(-1,1)"
      ],
      "metadata": {
        "id": "f-NWTCaBl55N"
      },
      "id": "f-NWTCaBl55N",
      "execution_count": 6,
      "outputs": []
    },
    {
      "cell_type": "code",
      "execution_count": 7,
      "id": "68b6e468",
      "metadata": {
        "colab": {
          "base_uri": "https://localhost:8080/",
          "height": 423
        },
        "id": "68b6e468",
        "outputId": "8146cb2c-15ba-48b3-8232-9960cabab245"
      },
      "outputs": [
        {
          "output_type": "execute_result",
          "data": {
            "text/plain": [
              "<Axes: >"
            ]
          },
          "metadata": {},
          "execution_count": 7
        },
        {
          "output_type": "display_data",
          "data": {
            "text/plain": [
              "<Figure size 640x480 with 1 Axes>"
            ],
            "image/png": "[encoded data removed]"
          },
          "metadata": {}
        }
      ],
      "source": [
        "df.groupby('gender').size().plot(kind='pie', autopct='%.2f')"
      ]
    },
    {
      "cell_type": "code",
      "execution_count": 8,
      "id": "8f1d5ad2",
      "metadata": {
        "colab": {
          "base_uri": "https://localhost:8080/",
          "height": 447
        },
        "id": "8f1d5ad2",
        "outputId": "6c6433ef-02a7-41e9-f812-a6458968a038"
      },
      "outputs": [
        {
          "output_type": "execute_result",
          "data": {
            "text/plain": [
              "<Axes: >"
            ]
          },
          "metadata": {},
          "execution_count": 8
        },
        {
          "output_type": "display_data",
          "data": {
            "text/plain": [
              "<Figure size 640x480 with 1 Axes>"
            ],
            "image/png": "[encoded data removed]"
          },
          "metadata": {}
        }
      ],
      "source": [
        "df['reason'].hist()"
      ]
    },
    {
      "cell_type": "markdown",
      "id": "309424fb",
      "metadata": {
        "id": "309424fb"
      },
      "source": [
        "# K-means Clustering"
      ]
    },
    {
      "cell_type": "code",
      "execution_count": 9,
      "id": "0a7fe49e",
      "metadata": {
        "colab": {
          "base_uri": "https://localhost:8080/",
          "height": 447
        },
        "id": "0a7fe49e",
        "outputId": "82041387-ecdc-4ac0-afb9-388619a85763"
      },
      "outputs": [
        {
          "output_type": "execute_result",
          "data": {
            "text/plain": [
              "<matplotlib.collections.PathCollection at 0x7ab1270a1570>"
            ]
          },
          "metadata": {},
          "execution_count": 9
        },
        {
          "output_type": "display_data",
          "data": {
            "text/plain": [
              "<Figure size 640x480 with 1 Axes>"
            ],
            "image/png": "[encoded data removed]"
          },
          "metadata": {}
        }
      ],
      "source": [
        "plt.scatter(df['city'],df['reason'])"
      ]
    },
    {
      "cell_type": "code",
      "execution_count": 10,
      "id": "37630a92",
      "metadata": {
        "id": "37630a92"
      },
      "outputs": [],
      "source": [
        "from sklearn.cluster import KMeans\n"
      ]
    },
    {
      "cell_type": "code",
      "execution_count": 11,
      "id": "d5033a1f",
      "metadata": {
        "id": "d5033a1f"
      },
      "outputs": [],
      "source": [
        "model= KMeans(n_clusters=9)\n"
      ]
    },
    {
      "cell_type": "code",
      "execution_count": 12,
      "id": "b705f106",
      "metadata": {
        "colab": {
          "base_uri": "https://localhost:8080/",
          "height": 129
        },
        "id": "b705f106",
        "outputId": "08d75a85-4c46-4313-be2b-1de167968889"
      },
      "outputs": [
        {
          "output_type": "stream",
          "name": "stderr",
          "text": [
            "/usr/local/lib/python3.10/dist-packages/sklearn/cluster/_kmeans.py:870: FutureWarning: The default value of `n_init` will change from 10 to 'auto' in 1.4. Set the value of `n_init` explicitly to suppress the warning\n",
            "  warnings.warn(\n"
          ]
        },
        {
          "output_type": "execute_result",
          "data": {
            "text/plain": [
              "KMeans(n_clusters=9)"
            ],
            "text/html": [
              "<style>#sk-container-id-1 {color: black;background-color: white;}#sk-container-id-1 pre{padding: 0;}#sk-container-id-1 div.sk-toggleable {background-color: white;}#sk-container-id-1 label.sk-toggleable__label {cursor: pointer;display: block;width: 100%;margin-bottom: 0;padding: 0.3em;box-sizing: border-box;text-align: center;}#sk-container-id-1 label.sk-toggleable__label-arrow:before {content: \"▸\";float: left;margin-right: 0.25em;color: #696969;}#sk-container-id-1 label.sk-toggleable__label-arrow:hover:before {color: black;}#sk-container-id-1 div.sk-estimator:hover label.sk-toggleable__label-arrow:before {color: black;}#sk-container-id-1 div.sk-toggleable__content {max-height: 0;max-width: 0;overflow: hidden;text-align: left;background-color: #f0f8ff;}#sk-container-id-1 div.sk-toggleable__content pre {margin: 0.2em;color: black;border-radius: 0.25em;background-color: #f0f8ff;}#sk-container-id-1 input.sk-toggleable__control:checked~div.sk-toggleable__content {max-height: 200px;max-width: 100%;overflow: auto;}#sk-container-id-1 input.sk-toggleable__control:checked~label.sk-toggleable__label-arrow:before {content: \"▾\";}#sk-container-id-1 div.sk-estimator input.sk-toggleable__control:checked~label.sk-toggleable__label {background-color: #d4ebff;}#sk-container-id-1 div.sk-label input.sk-toggleable__control:checked~label.sk-toggleable__label {background-color: #d4ebff;}#sk-container-id-1 input.sk-hidden--visually {border: 0;clip: rect(1px 1px 1px 1px);clip: rect(1px, 1px, 1px, 1px);height: 1px;margin: -1px;overflow: hidden;padding: 0;position: absolute;width: 1px;}#sk-container-id-1 div.sk-estimator {font-family: monospace;background-color: #f0f8ff;border: 1px dotted black;border-radius: 0.25em;box-sizing: border-box;margin-bottom: 0.5em;}#sk-container-id-1 div.sk-estimator:hover {background-color: #d4ebff;}#sk-container-id-1 div.sk-parallel-item::after {content: \"\";width: 100%;border-bottom: 1px solid gray;flex-grow: 1;}#sk-container-id-1 div.sk-label:hover label.sk-toggleable__label {background-color: #d4ebff;}#sk-container-id-1 div.sk-serial::before {content: \"\";position: absolute;border-left: 1px solid gray;box-sizing: border-box;top: 0;bottom: 0;left: 50%;z-index: 0;}#sk-container-id-1 div.sk-serial {display: flex;flex-direction: column;align-items: center;background-color: white;padding-right: 0.2em;padding-left: 0.2em;position: relative;}#sk-container-id-1 div.sk-item {position: relative;z-index: 1;}#sk-container-id-1 div.sk-parallel {display: flex;align-items: stretch;justify-content: center;background-color: white;position: relative;}#sk-container-id-1 div.sk-item::before, #sk-container-id-1 div.sk-parallel-item::before {content: \"\";position: absolute;border-left: 1px solid gray;box-sizing: border-box;top: 0;bottom: 0;left: 50%;z-index: -1;}#sk-container-id-1 div.sk-parallel-item {display: flex;flex-direction: column;z-index: 1;position: relative;background-color: white;}#sk-container-id-1 div.sk-parallel-item:first-child::after {align-self: flex-end;width: 50%;}#sk-container-id-1 div.sk-parallel-item:last-child::after {align-self: flex-start;width: 50%;}#sk-container-id-1 div.sk-parallel-item:only-child::after {width: 0;}#sk-container-id-1 div.sk-dashed-wrapped {border: 1px dashed gray;margin: 0 0.4em 0.5em 0.4em;box-sizing: border-box;padding-bottom: 0.4em;background-color: white;}#sk-container-id-1 div.sk-label label {font-family: monospace;font-weight: bold;display: inline-block;line-height: 1.2em;}#sk-container-id-1 div.sk-label-container {text-align: center;}#sk-container-id-1 div.sk-container {/* jupyter's `normalize.less` sets `[hidden] { display: none; }` but bootstrap.min.css set `[hidden] { display: none !important; }` so we also need the `!important` here to be able to override the default hidden behavior on the sphinx rendered scikit-learn.org. See: https://github.com/scikit-learn/scikit-learn/issues/21755 */display: inline-block !important;position: relative;}#sk-container-id-1 div.sk-text-repr-fallback {display: none;}</style><div id=\"sk-container-id-1\" class=\"sk-top-container\"><div class=\"sk-text-repr-fallback\"><pre>KMeans(n_clusters=9)</pre><b>In a Jupyter environment, please rerun this cell to show the HTML representation or trust the notebook. <br />On GitHub, the HTML representation is unable to render, please try loading this page with nbviewer.org.</b></div><div class=\"sk-container\" hidden><div class=\"sk-item\"><div class=\"sk-estimator sk-toggleable\"><input class=\"sk-toggleable__control sk-hidden--visually\" id=\"sk-estimator-id-1\" type=\"checkbox\" checked><label for=\"sk-estimator-id-1\" class=\"sk-toggleable__label sk-toggleable__label-arrow\">KMeans</label><div class=\"sk-toggleable__content\"><pre>KMeans(n_clusters=9)</pre></div></div></div></div></div>"
            ]
          },
          "metadata": {},
          "execution_count": 12
        }
      ],
      "source": [
        "model.fit(X)\n"
      ]
    },
    {
      "cell_type": "code",
      "execution_count": 13,
      "id": "a3d5290e",
      "metadata": {
        "id": "a3d5290e"
      },
      "outputs": [],
      "source": [
        "p=[[1]]\n"
      ]
    },
    {
      "cell_type": "code",
      "execution_count": 14,
      "id": "7ef3ae71",
      "metadata": {
        "colab": {
          "base_uri": "https://localhost:8080/"
        },
        "id": "7ef3ae71",
        "outputId": "ecd8950a-68d1-4183-ddc7-d3ab6144710f"
      },
      "outputs": [
        {
          "output_type": "execute_result",
          "data": {
            "text/plain": [
              "array([1], dtype=int32)"
            ]
          },
          "metadata": {},
          "execution_count": 14
        }
      ],
      "source": [
        "model.predict(p)"
      ]
    },
    {
      "cell_type": "code",
      "execution_count": 15,
      "id": "b1d0fe1f",
      "metadata": {
        "id": "b1d0fe1f"
      },
      "outputs": [],
      "source": [
        "centroids=model.cluster_centers_"
      ]
    },
    {
      "cell_type": "code",
      "execution_count": 16,
      "id": "e14b237c",
      "metadata": {
        "colab": {
          "base_uri": "https://localhost:8080/"
        },
        "id": "e14b237c",
        "outputId": "a7b0763c-6860-405e-e6cf-55a89680dbee"
      },
      "outputs": [
        {
          "output_type": "execute_result",
          "data": {
            "text/plain": [
              "array([[ 1.49404762e+01],\n",
              "       [ 1.08805031e+00],\n",
              "       [ 6.73333333e+00],\n",
              "       [ 1.78888889e+01],\n",
              "       [ 3.12820513e+00],\n",
              "       [ 1.28235294e+01],\n",
              "       [-8.88178420e-16],\n",
              "       [ 8.05172414e+00],\n",
              "       [ 2.12000000e+01]])"
            ]
          },
          "metadata": {},
          "execution_count": 16
        }
      ],
      "source": [
        "centroids"
      ]
    },
    {
      "cell_type": "code",
      "execution_count": 17,
      "id": "bb572b08",
      "metadata": {
        "id": "bb572b08"
      },
      "outputs": [],
      "source": [
        "# plt.scatter(df[['city']],df['reason'],c=model.labels_)\n",
        "# plt.scatter(centroids[:,0],centroids[:,1],c='red',s=100)"
      ]
    },
    {
      "cell_type": "code",
      "execution_count": 18,
      "id": "b4d01b4d",
      "metadata": {
        "id": "b4d01b4d"
      },
      "outputs": [],
      "source": [
        "x=df[['city','reason']]\n",
        "y=df['gender']"
      ]
    },
    {
      "cell_type": "code",
      "execution_count": 19,
      "id": "4bdb2267",
      "metadata": {
        "colab": {
          "base_uri": "https://localhost:8080/",
          "height": 423
        },
        "id": "4bdb2267",
        "outputId": "3a16c268-33e9-4eb1-a444-69500d81d6b6"
      },
      "outputs": [
        {
          "output_type": "execute_result",
          "data": {
            "text/plain": [
              "     city  reason\n",
              "0      15       1\n",
              "1      13       0\n",
              "2      13       7\n",
              "3       0       7\n",
              "4      15       6\n",
              "..    ...     ...\n",
              "162    15       8\n",
              "163    15       4\n",
              "164    15       8\n",
              "165    14       8\n",
              "166    13       8\n",
              "\n",
              "[167 rows x 2 columns]"
            ],
            "text/html": [
              "\n",
              "\n",
              "  <div id=\"df-f48faf1d-4b08-44b9-b244-42b94c1b3882\">\n",
              "    <div class=\"colab-df-container\">\n",
              "      <div>\n",
              "<style scoped>\n",
              "    .dataframe tbody tr th:only-of-type {\n",
              "        vertical-align: middle;\n",
              "    }\n",
              "\n",
              "    .dataframe tbody tr th {\n",
              "        vertical-align: top;\n",
              "    }\n",
              "\n",
              "    .dataframe thead th {\n",
              "        text-align: right;\n",
              "    }\n",
              "</style>\n",
              "<table border=\"1\" class=\"dataframe\">\n",
              "  <thead>\n",
              "    <tr style=\"text-align: right;\">\n",
              "      <th></th>\n",
              "      <th>city</th>\n",
              "      <th>reason</th>\n",
              "    </tr>\n",
              "  </thead>\n",
              "  <tbody>\n",
              "    <tr>\n",
              "      <th>0</th>\n",
              "      <td>15</td>\n",
              "      <td>1</td>\n",
              "    </tr>\n",
              "    <tr>\n",
              "      <th>1</th>\n",
              "      <td>13</td>\n",
              "      <td>0</td>\n",
              "    </tr>\n",
              "    <tr>\n",
              "      <th>2</th>\n",
              "      <td>13</td>\n",
              "      <td>7</td>\n",
              "    </tr>\n",
              "    <tr>\n",
              "      <th>3</th>\n",
              "      <td>0</td>\n",
              "      <td>7</td>\n",
              "    </tr>\n",
              "    <tr>\n",
              "      <th>4</th>\n",
              "      <td>15</td>\n",
              "      <td>6</td>\n",
              "    </tr>\n",
              "    <tr>\n",
              "      <th>...</th>\n",
              "      <td>...</td>\n",
              "      <td>...</td>\n",
              "    </tr>\n",
              "    <tr>\n",
              "      <th>162</th>\n",
              "      <td>15</td>\n",
              "      <td>8</td>\n",
              "    </tr>\n",
              "    <tr>\n",
              "      <th>163</th>\n",
              "      <td>15</td>\n",
              "      <td>4</td>\n",
              "    </tr>\n",
              "    <tr>\n",
              "      <th>164</th>\n",
              "      <td>15</td>\n",
              "      <td>8</td>\n",
              "    </tr>\n",
              "    <tr>\n",
              "      <th>165</th>\n",
              "      <td>14</td>\n",
              "      <td>8</td>\n",
              "    </tr>\n",
              "    <tr>\n",
              "      <th>166</th>\n",
              "      <td>13</td>\n",
              "      <td>8</td>\n",
              "    </tr>\n",
              "  </tbody>\n",
              "</table>\n",
              "<p>167 rows × 2 columns</p>\n",
              "</div>\n",
              "      <button class=\"colab-df-convert\" onclick=\"convertToInteractive('df-f48faf1d-4b08-44b9-b244-42b94c1b3882')\"\n",
              "              title=\"Convert this dataframe to an interactive table.\"\n",
              "              style=\"display:none;\">\n",
              "\n",
              "  <svg xmlns=\"http://www.w3.org/2000/svg\" height=\"24px\"viewBox=\"0 0 24 24\"\n",
              "       width=\"24px\">\n",
              "    <path d=\"M0 0h24v24H0V0z\" fill=\"none\"/>\n",
              "    <path d=\"M18.56 5.44l.94 2.06.94-2.06 2.06-.94-2.06-.94-.94-2.06-.94 2.06-2.06.94zm-11 1L8.5 8.5l.94-2.06 2.06-.94-2.06-.94L8.5 2.5l-.94 2.06-2.06.94zm10 10l.94 2.06.94-2.06 2.06-.94-2.06-.94-.94-2.06-.94 2.06-2.06.94z\"/><path d=\"M17.41 7.96l-1.37-1.37c-.4-.4-.92-.59-1.43-.59-.52 0-1.04.2-1.43.59L10.3 9.45l-7.72 7.72c-.78.78-.78 2.05 0 2.83L4 21.41c.39.39.9.59 1.41.59.51 0 1.02-.2 1.41-.59l7.78-7.78 2.81-2.81c.8-.78.8-2.07 0-2.86zM5.41 20L4 18.59l7.72-7.72 1.47 1.35L5.41 20z\"/>\n",
              "  </svg>\n",
              "      </button>\n",
              "\n",
              "\n",
              "\n",
              "    <div id=\"df-d6f61dbb-59f3-4b59-969f-b5e4d7e1eef9\">\n",
              "      <button class=\"colab-df-quickchart\" onclick=\"quickchart('df-d6f61dbb-59f3-4b59-969f-b5e4d7e1eef9')\"\n",
              "              title=\"Suggest charts.\"\n",
              "              style=\"display:none;\">\n",
              "\n",
              "<svg xmlns=\"http://www.w3.org/2000/svg\" height=\"24px\"viewBox=\"0 0 24 24\"\n",
              "     width=\"24px\">\n",
              "    <g>\n",
              "        <path d=\"M19 3H5c-1.1 0-2 .9-2 2v14c0 1.1.9 2 2 2h14c1.1 0 2-.9 2-2V5c0-1.1-.9-2-2-2zM9 17H7v-7h2v7zm4 0h-2V7h2v10zm4 0h-2v-4h2v4z\"/>\n",
              "    </g>\n",
              "</svg>\n",
              "      </button>\n",
              "    </div>\n",
              "\n",
              "<style>\n",
              "  .colab-df-quickchart {\n",
              "    background-color: #E8F0FE;\n",
              "    border: none;\n",
              "    border-radius: 50%;\n",
              "    cursor: pointer;\n",
              "    display: none;\n",
              "    fill: #1967D2;\n",
              "    height: 32px;\n",
              "    padding: 0 0 0 0;\n",
              "    width: 32px;\n",
              "  }\n",
              "\n",
              "  .colab-df-quickchart:hover {\n",
              "    background-color: #E2EBFA;\n",
              "    box-shadow: 0px 1px 2px rgba(60, 64, 67, 0.3), 0px 1px 3px 1px rgba(60, 64, 67, 0.15);\n",
              "    fill: #174EA6;\n",
              "  }\n",
              "\n",
              "  [theme=dark] .colab-df-quickchart {\n",
              "    background-color: #3B4455;\n",
              "    fill: #D2E3FC;\n",
              "  }\n",
              "\n",
              "  [theme=dark] .colab-df-quickchart:hover {\n",
              "    background-color: #434B5C;\n",
              "    box-shadow: 0px 1px 3px 1px rgba(0, 0, 0, 0.15);\n",
              "    filter: drop-shadow(0px 1px 2px rgba(0, 0, 0, 0.3));\n",
              "    fill: #FFFFFF;\n",
              "  }\n",
              "</style>\n",
              "\n",
              "    <script>\n",
              "      async function quickchart(key) {\n",
              "        const containerElement = document.querySelector('#' + key);\n",
              "        const charts = await google.colab.kernel.invokeFunction(\n",
              "            'suggestCharts', [key], {});\n",
              "      }\n",
              "    </script>\n",
              "\n",
              "      <script>\n",
              "\n",
              "function displayQuickchartButton(domScope) {\n",
              "  let quickchartButtonEl =\n",
              "    domScope.querySelector('#df-d6f61dbb-59f3-4b59-969f-b5e4d7e1eef9 button.colab-df-quickchart');\n",
              "  quickchartButtonEl.style.display =\n",
              "    google.colab.kernel.accessAllowed ? 'block' : 'none';\n",
              "}\n",
              "\n",
              "        displayQuickchartButton(document);\n",
              "      </script>\n",
              "      <style>\n",
              "    .colab-df-container {\n",
              "      display:flex;\n",
              "      flex-wrap:wrap;\n",
              "      gap: 12px;\n",
              "    }\n",
              "\n",
              "    .colab-df-convert {\n",
              "      background-color: #E8F0FE;\n",
              "      border: none;\n",
              "      border-radius: 50%;\n",
              "      cursor: pointer;\n",
              "      display: none;\n",
              "      fill: #1967D2;\n",
              "      height: 32px;\n",
              "      padding: 0 0 0 0;\n",
              "      width: 32px;\n",
              "    }\n",
              "\n",
              "    .colab-df-convert:hover {\n",
              "      background-color: #E2EBFA;\n",
              "      box-shadow: 0px 1px 2px rgba(60, 64, 67, 0.3), 0px 1px 3px 1px rgba(60, 64, 67, 0.15);\n",
              "      fill: #174EA6;\n",
              "    }\n",
              "\n",
              "    [theme=dark] .colab-df-convert {\n",
              "      background-color: #3B4455;\n",
              "      fill: #D2E3FC;\n",
              "    }\n",
              "\n",
              "    [theme=dark] .colab-df-convert:hover {\n",
              "      background-color: #434B5C;\n",
              "      box-shadow: 0px 1px 3px 1px rgba(0, 0, 0, 0.15);\n",
              "      filter: drop-shadow(0px 1px 2px rgba(0, 0, 0, 0.3));\n",
              "      fill: #FFFFFF;\n",
              "    }\n",
              "  </style>\n",
              "\n",
              "      <script>\n",
              "        const buttonEl =\n",
              "          document.querySelector('#df-f48faf1d-4b08-44b9-b244-42b94c1b3882 button.colab-df-convert');\n",
              "        buttonEl.style.display =\n",
              "          google.colab.kernel.accessAllowed ? 'block' : 'none';\n",
              "\n",
              "        async function convertToInteractive(key) {\n",
              "          const element = document.querySelector('#df-f48faf1d-4b08-44b9-b244-42b94c1b3882');\n",
              "          const dataTable =\n",
              "            await google.colab.kernel.invokeFunction('convertToInteractive',\n",
              "                                                     [key], {});\n",
              "          if (!dataTable) return;\n",
              "\n",
              "          const docLinkHtml = 'Like what you see? Visit the ' +\n",
              "            '<a target=\"_blank\" href=https://colab.research.google.com/notebooks/data_table.ipynb>data table notebook</a>'\n",
              "            + ' to learn more about interactive tables.';\n",
              "          element.innerHTML = '';\n",
              "          dataTable['output_type'] = 'display_data';\n",
              "          await google.colab.output.renderOutput(dataTable, element);\n",
              "          const docLink = document.createElement('div');\n",
              "          docLink.innerHTML = docLinkHtml;\n",
              "          element.appendChild(docLink);\n",
              "        }\n",
              "      </script>\n",
              "    </div>\n",
              "  </div>\n"
            ]
          },
          "metadata": {},
          "execution_count": 19
        }
      ],
      "source": [
        "x"
      ]
    },
    {
      "cell_type": "code",
      "execution_count": 20,
      "id": "a3b23160",
      "metadata": {
        "colab": {
          "base_uri": "https://localhost:8080/"
        },
        "id": "a3b23160",
        "outputId": "74439adb-4147-43f1-f6e1-af0b6dfb77c2"
      },
      "outputs": [
        {
          "output_type": "execute_result",
          "data": {
            "text/plain": [
              "0      0\n",
              "1      1\n",
              "2      0\n",
              "3      0\n",
              "4      1\n",
              "      ..\n",
              "162    1\n",
              "163    0\n",
              "164    0\n",
              "165    1\n",
              "166    1\n",
              "Name: gender, Length: 167, dtype: int64"
            ]
          },
          "metadata": {},
          "execution_count": 20
        }
      ],
      "source": [
        "y"
      ]
    },
    {
      "cell_type": "markdown",
      "id": "34e0d9ce",
      "metadata": {
        "id": "34e0d9ce"
      },
      "source": [
        "# Train Test Split"
      ]
    },
    {
      "cell_type": "code",
      "execution_count": 21,
      "id": "4a6af2e9",
      "metadata": {
        "id": "4a6af2e9"
      },
      "outputs": [],
      "source": [
        "from sklearn.model_selection import train_test_split"
      ]
    },
    {
      "cell_type": "code",
      "execution_count": 22,
      "id": "70c49d83",
      "metadata": {
        "id": "70c49d83"
      },
      "outputs": [],
      "source": [
        "xtrain,xtest,ytrain,ytest=train_test_split(x,y,test_size=0.2)"
      ]
    },
    {
      "cell_type": "markdown",
      "id": "228e96cf",
      "metadata": {
        "id": "228e96cf"
      },
      "source": [
        "# Decision Tree"
      ]
    },
    {
      "cell_type": "code",
      "execution_count": 23,
      "id": "5a8f630e",
      "metadata": {
        "id": "5a8f630e"
      },
      "outputs": [],
      "source": [
        "from sklearn.tree import DecisionTreeClassifier\n",
        "decisiontree = DecisionTreeClassifier(criterion='entropy')\n",
        "#entropy results in higher acc than gini\n",
        "model=decisiontree.fit(xtrain,ytrain)"
      ]
    },
    {
      "cell_type": "code",
      "execution_count": 24,
      "id": "f829c8b7",
      "metadata": {
        "id": "f829c8b7"
      },
      "outputs": [],
      "source": [
        "ypred=model.predict(xtest)"
      ]
    },
    {
      "cell_type": "code",
      "execution_count": 25,
      "id": "da31ffc6",
      "metadata": {
        "id": "da31ffc6"
      },
      "outputs": [],
      "source": [
        "from sklearn.metrics import accuracy_score"
      ]
    },
    {
      "cell_type": "code",
      "execution_count": 26,
      "id": "cd007cc0",
      "metadata": {
        "colab": {
          "base_uri": "https://localhost:8080/"
        },
        "id": "cd007cc0",
        "outputId": "38d5dd52-a840-4b7c-ff23-c0bcc3a807f4"
      },
      "outputs": [
        {
          "output_type": "stream",
          "name": "stdout",
          "text": [
            "Model accuracy score : 0.8529\n"
          ]
        }
      ],
      "source": [
        "print('Model accuracy score : {0:0.4f}'. format(accuracy_score(ytest, ypred)))"
      ]
    },
    {
      "cell_type": "code",
      "execution_count": 27,
      "id": "33098b11",
      "metadata": {
        "colab": {
          "base_uri": "https://localhost:8080/"
        },
        "id": "33098b11",
        "outputId": "39ee791b-248e-4119-a271-a77b7281a747"
      },
      "outputs": [
        {
          "output_type": "execute_result",
          "data": {
            "text/plain": [
              "Index(['city', 'reason', 'gender'], dtype='object')"
            ]
          },
          "metadata": {},
          "execution_count": 27
        }
      ],
      "source": [
        "df.columns"
      ]
    },
    {
      "cell_type": "code",
      "execution_count": 28,
      "id": "71a6296a",
      "metadata": {
        "colab": {
          "base_uri": "https://localhost:8080/",
          "height": 576
        },
        "id": "71a6296a",
        "outputId": "9c00c427-5203-47ac-d4b6-310e1cd98372"
      },
      "outputs": [
        {
          "output_type": "display_data",
          "data": {
            "text/plain": [
              "<Figure size 700x700 with 1 Axes>"
            ],
            "image/png": "[encoded data removed]"
          },
          "metadata": {}
        }
      ],
      "source": [
        "from sklearn import tree\n",
        "import matplotlib.image as pltimage\n",
        "fig = plt.figure(figsize=(7,7))\n",
        "tree.plot_tree(decisiontree, feature_names=['city', 'reason', 'gender'],class_names=['male','female'],filled=True)\n",
        "fig.savefig('tree.png')"
      ]
    },
    {
      "cell_type": "code",
      "execution_count": 29,
      "id": "cdc90b68",
      "metadata": {
        "id": "cdc90b68"
      },
      "outputs": [],
      "source": [
        "rules:str = tree.export_text(model)"
      ]
    },
    {
      "cell_type": "code",
      "source": [
        "rules"
      ],
      "metadata": {
        "colab": {
          "base_uri": "https://localhost:8080/",
          "height": 140
        },
        "id": "3J7MoufxoAfL",
        "outputId": "a70f1aaf-f6cf-4ea4-cdee-012e9e69d9ad"
      },
      "id": "3J7MoufxoAfL",
      "execution_count": 30,
      "outputs": [
        {
          "output_type": "execute_result",
          "data": {
            "text/plain": [
              "'|--- feature_0 <= 0.50\\n|   |--- class: 0\\n|--- feature_0 >  0.50\\n|   |--- feature_0 <= 13.50\\n|   |   |--- feature_1 <= 7.50\\n|   |   |   |--- feature_0 <= 4.50\\n|   |   |   |   |--- feature_0 <= 2.50\\n|   |   |   |   |   |--- feature_1 <= 4.50\\n|   |   |   |   |   |   |--- class: 1\\n|   |   |   |   |   |--- feature_1 >  4.50\\n|   |   |   |   |   |   |--- class: 0\\n|   |   |   |   |--- feature_0 >  2.50\\n|   |   |   |   |   |--- class: 1\\n|   |   |   |--- feature_0 >  4.50\\n|   |   |   |   |--- feature_0 <= 5.50\\n|   |   |   |   |   |--- class: 0\\n|   |   |   |   |--- feature_0 >  5.50\\n|   |   |   |   |   |--- feature_1 <= 3.00\\n|   |   |   |   |   |   |--- feature_0 <= 12.50\\n|   |   |   |   |   |   |   |--- class: 1\\n|   |   |   |   |   |   |--- feature_0 >  12.50\\n|   |   |   |   |   |   |   |--- class: 1\\n|   |   |   |   |   |--- feature_1 >  3.00\\n|   |   |   |   |   |   |--- feature_1 <= 5.50\\n|   |   |   |   |   |   |   |--- class: 0\\n|   |   |   |   |   |   |--- feature_1 >  5.50\\n|   |   |   |   |   |   |   |--- feature_0 <= 7.00\\n|   |   |   |   |   |   |   |   |--- class: 0\\n|   |   |   |   |   |   |   |--- feature_0 >  7.00\\n|   |   |   |   |   |   |   |   |--- feature_0 <= 12.50\\n|   |   |   |   |   |   |   |   |   |--- class: 1\\n|   |   |   |   |   |   |   |   |--- feature_0 >  12.50\\n|   |   |   |   |   |   |   |   |   |--- class: 1\\n|   |   |--- feature_1 >  7.50\\n|   |   |   |--- class: 1\\n|   |--- feature_0 >  13.50\\n|   |   |--- feature_1 <= 1.50\\n|   |   |   |--- feature_1 <= 0.50\\n|   |   |   |   |--- class: 1\\n|   |   |   |--- feature_1 >  0.50\\n|   |   |   |   |--- class: 0\\n|   |   |--- feature_1 >  1.50\\n|   |   |   |--- feature_1 <= 6.50\\n|   |   |   |   |--- feature_1 <= 2.50\\n|   |   |   |   |   |--- feature_0 <= 14.50\\n|   |   |   |   |   |   |--- class: 1\\n|   |   |   |   |   |--- feature_0 >  14.50\\n|   |   |   |   |   |   |--- feature_0 <= 18.00\\n|   |   |   |   |   |   |   |--- class: 1\\n|   |   |   |   |   |   |--- feature_0 >  18.00\\n|   |   |   |   |   |   |   |--- class: 1\\n|   |   |   |   |--- feature_1 >  2.50\\n|   |   |   |   |   |--- class: 1\\n|   |   |   |--- feature_1 >  6.50\\n|   |   |   |   |--- feature_1 <= 7.50\\n|   |   |   |   |   |--- feature_0 <= 16.50\\n|   |   |   |   |   |   |--- class: 1\\n|   |   |   |   |   |--- feature_0 >  16.50\\n|   |   |   |   |   |   |--- feature_0 <= 19.50\\n|   |   |   |   |   |   |   |--- class: 0\\n|   |   |   |   |   |   |--- feature_0 >  19.50\\n|   |   |   |   |   |   |   |--- class: 1\\n|   |   |   |   |--- feature_1 >  7.50\\n|   |   |   |   |   |--- feature_0 <= 14.50\\n|   |   |   |   |   |   |--- class: 1\\n|   |   |   |   |   |--- feature_0 >  14.50\\n|   |   |   |   |   |   |--- feature_0 <= 21.50\\n|   |   |   |   |   |   |   |--- feature_0 <= 20.00\\n|   |   |   |   |   |   |   |   |--- feature_0 <= 16.00\\n|   |   |   |   |   |   |   |   |   |--- class: 1\\n|   |   |   |   |   |   |   |   |--- feature_0 >  16.00\\n|   |   |   |   |   |   |   |   |   |--- class: 1\\n|   |   |   |   |   |   |   |--- feature_0 >  20.00\\n|   |   |   |   |   |   |   |   |--- class: 1\\n|   |   |   |   |   |   |--- feature_0 >  21.50\\n|   |   |   |   |   |   |   |--- class: 1\\n'"
            ],
            "application/vnd.google.colaboratory.intrinsic+json": {
              "type": "string"
            }
          },
          "metadata": {},
          "execution_count": 30
        }
      ]
    },
    {
      "cell_type": "code",
      "execution_count": 31,
      "id": "f261c6ff",
      "metadata": {
        "id": "f261c6ff"
      },
      "outputs": [],
      "source": [
        "with open('friend zone tree.txt','w')  as f:\n",
        "    f.write(rules)"
      ]
    },
    {
      "cell_type": "markdown",
      "source": [
        "# Random Forest"
      ],
      "metadata": {
        "id": "TmaEJOZBqRGn"
      },
      "id": "TmaEJOZBqRGn"
    },
    {
      "cell_type": "code",
      "source": [
        "from sklearn.model_selection import train_test_split\n",
        "x_train, x_test, y_train, y_test= train_test_split(x, y, test_size= 0.25, random_state=0)"
      ],
      "metadata": {
        "id": "JC14KRKZwDjA"
      },
      "id": "JC14KRKZwDjA",
      "execution_count": 32,
      "outputs": []
    },
    {
      "cell_type": "code",
      "source": [
        "from sklearn.preprocessing import StandardScaler\n",
        "st_x= StandardScaler()\n",
        "x_train= st_x.fit_transform(x_train)\n",
        "x_test= st_x.transform(x_test)"
      ],
      "metadata": {
        "id": "DfL9nI3lqZRu"
      },
      "id": "DfL9nI3lqZRu",
      "execution_count": 33,
      "outputs": []
    },
    {
      "cell_type": "code",
      "source": [
        "from sklearn.ensemble import RandomForestClassifier\n",
        "classifier= RandomForestClassifier(n_estimators= 10, criterion=\"entropy\")\n",
        "classifier.fit(x_train, y_train)"
      ],
      "metadata": {
        "colab": {
          "base_uri": "https://localhost:8080/",
          "height": 74
        },
        "id": "kN9eBURVqZY3",
        "outputId": "63491831-0133-4eab-8c44-97b722952580"
      },
      "id": "kN9eBURVqZY3",
      "execution_count": 34,
      "outputs": [
        {
          "output_type": "execute_result",
          "data": {
            "text/plain": [
              "RandomForestClassifier(criterion='entropy', n_estimators=10)"
            ],
            "text/html": [
              "<style>#sk-container-id-2 {color: black;background-color: white;}#sk-container-id-2 pre{padding: 0;}#sk-container-id-2 div.sk-toggleable {background-color: white;}#sk-container-id-2 label.sk-toggleable__label {cursor: pointer;display: block;width: 100%;margin-bottom: 0;padding: 0.3em;box-sizing: border-box;text-align: center;}#sk-container-id-2 label.sk-toggleable__label-arrow:before {content: \"▸\";float: left;margin-right: 0.25em;color: #696969;}#sk-container-id-2 label.sk-toggleable__label-arrow:hover:before {color: black;}#sk-container-id-2 div.sk-estimator:hover label.sk-toggleable__label-arrow:before {color: black;}#sk-container-id-2 div.sk-toggleable__content {max-height: 0;max-width: 0;overflow: hidden;text-align: left;background-color: #f0f8ff;}#sk-container-id-2 div.sk-toggleable__content pre {margin: 0.2em;color: black;border-radius: 0.25em;background-color: #f0f8ff;}#sk-container-id-2 input.sk-toggleable__control:checked~div.sk-toggleable__content {max-height: 200px;max-width: 100%;overflow: auto;}#sk-container-id-2 input.sk-toggleable__control:checked~label.sk-toggleable__label-arrow:before {content: \"▾\";}#sk-container-id-2 div.sk-estimator input.sk-toggleable__control:checked~label.sk-toggleable__label {background-color: #d4ebff;}#sk-container-id-2 div.sk-label input.sk-toggleable__control:checked~label.sk-toggleable__label {background-color: #d4ebff;}#sk-container-id-2 input.sk-hidden--visually {border: 0;clip: rect(1px 1px 1px 1px);clip: rect(1px, 1px, 1px, 1px);height: 1px;margin: -1px;overflow: hidden;padding: 0;position: absolute;width: 1px;}#sk-container-id-2 div.sk-estimator {font-family: monospace;background-color: #f0f8ff;border: 1px dotted black;border-radius: 0.25em;box-sizing: border-box;margin-bottom: 0.5em;}#sk-container-id-2 div.sk-estimator:hover {background-color: #d4ebff;}#sk-container-id-2 div.sk-parallel-item::after {content: \"\";width: 100%;border-bottom: 1px solid gray;flex-grow: 1;}#sk-container-id-2 div.sk-label:hover label.sk-toggleable__label {background-color: #d4ebff;}#sk-container-id-2 div.sk-serial::before {content: \"\";position: absolute;border-left: 1px solid gray;box-sizing: border-box;top: 0;bottom: 0;left: 50%;z-index: 0;}#sk-container-id-2 div.sk-serial {display: flex;flex-direction: column;align-items: center;background-color: white;padding-right: 0.2em;padding-left: 0.2em;position: relative;}#sk-container-id-2 div.sk-item {position: relative;z-index: 1;}#sk-container-id-2 div.sk-parallel {display: flex;align-items: stretch;justify-content: center;background-color: white;position: relative;}#sk-container-id-2 div.sk-item::before, #sk-container-id-2 div.sk-parallel-item::before {content: \"\";position: absolute;border-left: 1px solid gray;box-sizing: border-box;top: 0;bottom: 0;left: 50%;z-index: -1;}#sk-container-id-2 div.sk-parallel-item {display: flex;flex-direction: column;z-index: 1;position: relative;background-color: white;}#sk-container-id-2 div.sk-parallel-item:first-child::after {align-self: flex-end;width: 50%;}#sk-container-id-2 div.sk-parallel-item:last-child::after {align-self: flex-start;width: 50%;}#sk-container-id-2 div.sk-parallel-item:only-child::after {width: 0;}#sk-container-id-2 div.sk-dashed-wrapped {border: 1px dashed gray;margin: 0 0.4em 0.5em 0.4em;box-sizing: border-box;padding-bottom: 0.4em;background-color: white;}#sk-container-id-2 div.sk-label label {font-family: monospace;font-weight: bold;display: inline-block;line-height: 1.2em;}#sk-container-id-2 div.sk-label-container {text-align: center;}#sk-container-id-2 div.sk-container {/* jupyter's `normalize.less` sets `[hidden] { display: none; }` but bootstrap.min.css set `[hidden] { display: none !important; }` so we also need the `!important` here to be able to override the default hidden behavior on the sphinx rendered scikit-learn.org. See: https://github.com/scikit-learn/scikit-learn/issues/21755 */display: inline-block !important;position: relative;}#sk-container-id-2 div.sk-text-repr-fallback {display: none;}</style><div id=\"sk-container-id-2\" class=\"sk-top-container\"><div class=\"sk-text-repr-fallback\"><pre>RandomForestClassifier(criterion=&#x27;entropy&#x27;, n_estimators=10)</pre><b>In a Jupyter environment, please rerun this cell to show the HTML representation or trust the notebook. <br />On GitHub, the HTML representation is unable to render, please try loading this page with nbviewer.org.</b></div><div class=\"sk-container\" hidden><div class=\"sk-item\"><div class=\"sk-estimator sk-toggleable\"><input class=\"sk-toggleable__control sk-hidden--visually\" id=\"sk-estimator-id-2\" type=\"checkbox\" checked><label for=\"sk-estimator-id-2\" class=\"sk-toggleable__label sk-toggleable__label-arrow\">RandomForestClassifier</label><div class=\"sk-toggleable__content\"><pre>RandomForestClassifier(criterion=&#x27;entropy&#x27;, n_estimators=10)</pre></div></div></div></div></div>"
            ]
          },
          "metadata": {},
          "execution_count": 34
        }
      ]
    },
    {
      "cell_type": "code",
      "source": [
        "#Predicting the test set result\n",
        "y_pred= classifier.predict(x_test)"
      ],
      "metadata": {
        "id": "VvUXr-VPqZb4"
      },
      "id": "VvUXr-VPqZb4",
      "execution_count": 35,
      "outputs": []
    },
    {
      "cell_type": "code",
      "source": [
        "from sklearn.metrics import confusion_matrix\n",
        "cm= confusion_matrix(y_test, y_pred)\n",
        "cm"
      ],
      "metadata": {
        "colab": {
          "base_uri": "https://localhost:8080/"
        },
        "id": "MG0OrUT2qZfX",
        "outputId": "33c90228-6800-499b-9146-c612a292835f"
      },
      "id": "MG0OrUT2qZfX",
      "execution_count": 36,
      "outputs": [
        {
          "output_type": "execute_result",
          "data": {
            "text/plain": [
              "array([[ 1,  8],\n",
              "       [ 0, 33]])"
            ]
          },
          "metadata": {},
          "execution_count": 36
        }
      ]
    },
    {
      "cell_type": "code",
      "source": [
        "accuracy_score(y_test, y_pred)\n"
      ],
      "metadata": {
        "colab": {
          "base_uri": "https://localhost:8080/"
        },
        "id": "SGuMQi7zqZih",
        "outputId": "85dd96ad-69a6-4658-ee1b-e30e6ccc88c9"
      },
      "id": "SGuMQi7zqZih",
      "execution_count": 37,
      "outputs": [
        {
          "output_type": "execute_result",
          "data": {
            "text/plain": [
              "0.8095238095238095"
            ]
          },
          "metadata": {},
          "execution_count": 37
        }
      ]
    },
    {
      "cell_type": "markdown",
      "id": "bd54660d",
      "metadata": {
        "id": "bd54660d"
      },
      "source": [
        "# Logistic Regression"
      ]
    },
    {
      "cell_type": "code",
      "source": [
        "import seaborn as sns\n",
        "dataplot = sns.heatmap(df.corr(), cmap=\"YlGnBu\", annot=True)\n"
      ],
      "metadata": {
        "colab": {
          "base_uri": "https://localhost:8080/",
          "height": 435
        },
        "id": "USBpfZiaprxN",
        "outputId": "c4fc55f7-eda5-4da0-f7a5-e90dd8e5a0da"
      },
      "id": "USBpfZiaprxN",
      "execution_count": 38,
      "outputs": [
        {
          "output_type": "display_data",
          "data": {
            "text/plain": [
              "<Figure size 640x480 with 2 Axes>"
            ],
            "image/png": "[encoded data removed]"
          },
          "metadata": {}
        }
      ]
    },
    {
      "cell_type": "code",
      "execution_count": 39,
      "id": "d945a631",
      "metadata": {
        "id": "d945a631"
      },
      "outputs": [],
      "source": [
        "from sklearn.linear_model import LogisticRegression"
      ]
    },
    {
      "cell_type": "code",
      "execution_count": 40,
      "id": "04289dcc",
      "metadata": {
        "colab": {
          "base_uri": "https://localhost:8080/",
          "height": 74
        },
        "id": "04289dcc",
        "outputId": "56eba513-4fd3-43eb-d9bf-bb12c2825fb4"
      },
      "outputs": [
        {
          "output_type": "execute_result",
          "data": {
            "text/plain": [
              "LogisticRegression()"
            ],
            "text/html": [
              "<style>#sk-container-id-3 {color: black;background-color: white;}#sk-container-id-3 pre{padding: 0;}#sk-container-id-3 div.sk-toggleable {background-color: white;}#sk-container-id-3 label.sk-toggleable__label {cursor: pointer;display: block;width: 100%;margin-bottom: 0;padding: 0.3em;box-sizing: border-box;text-align: center;}#sk-container-id-3 label.sk-toggleable__label-arrow:before {content: \"▸\";float: left;margin-right: 0.25em;color: #696969;}#sk-container-id-3 label.sk-toggleable__label-arrow:hover:before {color: black;}#sk-container-id-3 div.sk-estimator:hover label.sk-toggleable__label-arrow:before {color: black;}#sk-container-id-3 div.sk-toggleable__content {max-height: 0;max-width: 0;overflow: hidden;text-align: left;background-color: #f0f8ff;}#sk-container-id-3 div.sk-toggleable__content pre {margin: 0.2em;color: black;border-radius: 0.25em;background-color: #f0f8ff;}#sk-container-id-3 input.sk-toggleable__control:checked~div.sk-toggleable__content {max-height: 200px;max-width: 100%;overflow: auto;}#sk-container-id-3 input.sk-toggleable__control:checked~label.sk-toggleable__label-arrow:before {content: \"▾\";}#sk-container-id-3 div.sk-estimator input.sk-toggleable__control:checked~label.sk-toggleable__label {background-color: #d4ebff;}#sk-container-id-3 div.sk-label input.sk-toggleable__control:checked~label.sk-toggleable__label {background-color: #d4ebff;}#sk-container-id-3 input.sk-hidden--visually {border: 0;clip: rect(1px 1px 1px 1px);clip: rect(1px, 1px, 1px, 1px);height: 1px;margin: -1px;overflow: hidden;padding: 0;position: absolute;width: 1px;}#sk-container-id-3 div.sk-estimator {font-family: monospace;background-color: #f0f8ff;border: 1px dotted black;border-radius: 0.25em;box-sizing: border-box;margin-bottom: 0.5em;}#sk-container-id-3 div.sk-estimator:hover {background-color: #d4ebff;}#sk-container-id-3 div.sk-parallel-item::after {content: \"\";width: 100%;border-bottom: 1px solid gray;flex-grow: 1;}#sk-container-id-3 div.sk-label:hover label.sk-toggleable__label {background-color: #d4ebff;}#sk-container-id-3 div.sk-serial::before {content: \"\";position: absolute;border-left: 1px solid gray;box-sizing: border-box;top: 0;bottom: 0;left: 50%;z-index: 0;}#sk-container-id-3 div.sk-serial {display: flex;flex-direction: column;align-items: center;background-color: white;padding-right: 0.2em;padding-left: 0.2em;position: relative;}#sk-container-id-3 div.sk-item {position: relative;z-index: 1;}#sk-container-id-3 div.sk-parallel {display: flex;align-items: stretch;justify-content: center;background-color: white;position: relative;}#sk-container-id-3 div.sk-item::before, #sk-container-id-3 div.sk-parallel-item::before {content: \"\";position: absolute;border-left: 1px solid gray;box-sizing: border-box;top: 0;bottom: 0;left: 50%;z-index: -1;}#sk-container-id-3 div.sk-parallel-item {display: flex;flex-direction: column;z-index: 1;position: relative;background-color: white;}#sk-container-id-3 div.sk-parallel-item:first-child::after {align-self: flex-end;width: 50%;}#sk-container-id-3 div.sk-parallel-item:last-child::after {align-self: flex-start;width: 50%;}#sk-container-id-3 div.sk-parallel-item:only-child::after {width: 0;}#sk-container-id-3 div.sk-dashed-wrapped {border: 1px dashed gray;margin: 0 0.4em 0.5em 0.4em;box-sizing: border-box;padding-bottom: 0.4em;background-color: white;}#sk-container-id-3 div.sk-label label {font-family: monospace;font-weight: bold;display: inline-block;line-height: 1.2em;}#sk-container-id-3 div.sk-label-container {text-align: center;}#sk-container-id-3 div.sk-container {/* jupyter's `normalize.less` sets `[hidden] { display: none; }` but bootstrap.min.css set `[hidden] { display: none !important; }` so we also need the `!important` here to be able to override the default hidden behavior on the sphinx rendered scikit-learn.org. See: https://github.com/scikit-learn/scikit-learn/issues/21755 */display: inline-block !important;position: relative;}#sk-container-id-3 div.sk-text-repr-fallback {display: none;}</style><div id=\"sk-container-id-3\" class=\"sk-top-container\"><div class=\"sk-text-repr-fallback\"><pre>LogisticRegression()</pre><b>In a Jupyter environment, please rerun this cell to show the HTML representation or trust the notebook. <br />On GitHub, the HTML representation is unable to render, please try loading this page with nbviewer.org.</b></div><div class=\"sk-container\" hidden><div class=\"sk-item\"><div class=\"sk-estimator sk-toggleable\"><input class=\"sk-toggleable__control sk-hidden--visually\" id=\"sk-estimator-id-3\" type=\"checkbox\" checked><label for=\"sk-estimator-id-3\" class=\"sk-toggleable__label sk-toggleable__label-arrow\">LogisticRegression</label><div class=\"sk-toggleable__content\"><pre>LogisticRegression()</pre></div></div></div></div></div>"
            ]
          },
          "metadata": {},
          "execution_count": 40
        }
      ],
      "source": [
        "# Initializing with 'solver' parameter\n",
        "logmodel = LogisticRegression()\n",
        "# Training the model\n",
        "logmodel.fit(xtrain,ytrain)"
      ]
    },
    {
      "cell_type": "code",
      "execution_count": 41,
      "id": "9d1010b9",
      "metadata": {
        "id": "9d1010b9"
      },
      "outputs": [],
      "source": [
        "predictions = logmodel.predict(xtest)\n"
      ]
    },
    {
      "cell_type": "code",
      "execution_count": 42,
      "id": "9361cb80",
      "metadata": {
        "id": "9361cb80"
      },
      "outputs": [],
      "source": [
        "from sklearn.metrics import classification_report\n"
      ]
    },
    {
      "cell_type": "code",
      "execution_count": 43,
      "id": "37000883",
      "metadata": {
        "colab": {
          "base_uri": "https://localhost:8080/"
        },
        "id": "37000883",
        "outputId": "0376ab8c-3579-498a-e575-56078c88b28e"
      },
      "outputs": [
        {
          "output_type": "stream",
          "name": "stdout",
          "text": [
            "              precision    recall  f1-score   support\n",
            "\n",
            "           0       0.00      0.00      0.00         5\n",
            "           1       0.85      1.00      0.92        29\n",
            "\n",
            "    accuracy                           0.85        34\n",
            "   macro avg       0.43      0.50      0.46        34\n",
            "weighted avg       0.73      0.85      0.79        34\n",
            "\n"
          ]
        },
        {
          "output_type": "stream",
          "name": "stderr",
          "text": [
            "/usr/local/lib/python3.10/dist-packages/sklearn/metrics/_classification.py:1344: UndefinedMetricWarning: Precision and F-score are ill-defined and being set to 0.0 in labels with no predicted samples. Use `zero_division` parameter to control this behavior.\n",
            "  _warn_prf(average, modifier, msg_start, len(result))\n",
            "/usr/local/lib/python3.10/dist-packages/sklearn/metrics/_classification.py:1344: UndefinedMetricWarning: Precision and F-score are ill-defined and being set to 0.0 in labels with no predicted samples. Use `zero_division` parameter to control this behavior.\n",
            "  _warn_prf(average, modifier, msg_start, len(result))\n",
            "/usr/local/lib/python3.10/dist-packages/sklearn/metrics/_classification.py:1344: UndefinedMetricWarning: Precision and F-score are ill-defined and being set to 0.0 in labels with no predicted samples. Use `zero_division` parameter to control this behavior.\n",
            "  _warn_prf(average, modifier, msg_start, len(result))\n"
          ]
        }
      ],
      "source": [
        "print(classification_report(ytest,predictions))\n"
      ]
    },
    {
      "cell_type": "markdown",
      "source": [
        "# KNN"
      ],
      "metadata": {
        "id": "L6znwdezyg8W"
      },
      "id": "L6znwdezyg8W"
    },
    {
      "cell_type": "code",
      "execution_count": 44,
      "id": "d70c61b8",
      "metadata": {
        "id": "d70c61b8"
      },
      "outputs": [],
      "source": [
        "from sklearn.neighbors import KNeighborsClassifier"
      ]
    },
    {
      "cell_type": "code",
      "source": [
        "knn=KNeighborsClassifier(n_neighbors=1)\n",
        "knn.fit(xtrain,ytrain)\n",
        "p=knn.predict(xtest)\n",
        "acc=accuracy_score(ytest,p)\n",
        "acc"
      ],
      "metadata": {
        "colab": {
          "base_uri": "https://localhost:8080/"
        },
        "id": "NICYIkXny5y8",
        "outputId": "803f1c99-36eb-4dce-bf77-84eeb39add10"
      },
      "id": "NICYIkXny5y8",
      "execution_count": 45,
      "outputs": [
        {
          "output_type": "execute_result",
          "data": {
            "text/plain": [
              "0.8529411764705882"
            ]
          },
          "metadata": {},
          "execution_count": 45
        }
      ]
    },
    {
      "cell_type": "code",
      "source": [
        "bestK = -1\n",
        "bestScore = -1\n",
        "for x in range(1,50,2):\n",
        "    knn = KNeighborsClassifier(n_neighbors=x)\n",
        "    knn.fit(xtrain,ytrain)\n",
        "    p=knn.predict(xtest)\n",
        "\n",
        "#     p=pd.DataFrame(p)\n",
        "#     p[0] = p[0].map({'Iris-setosa':1, 'Iris-versicolor':2, 'Iris-virginica':3})\n",
        "    print('*********predicted data*********')\n",
        "    print(p)\n",
        "    print('*********real data*********')\n",
        "    print(ytest)\n",
        "    accuracy = accuracy_score(p, ytest)\n",
        "    print(f'Accuracy score for {x} is ',accuracy)\n",
        "    if(accuracy > bestScore):\n",
        "        bestScore = accuracy\n",
        "        bestK = x\n",
        "\n",
        "print('BestK  : ', bestK)\n",
        "print('BestScore  : ', bestScore)"
      ],
      "metadata": {
        "colab": {
          "base_uri": "https://localhost:8080/"
        },
        "id": "vsjSWjJUzELS",
        "outputId": "eedca7bc-2399-41e6-c10f-8a19bca55ddc"
      },
      "id": "vsjSWjJUzELS",
      "execution_count": 46,
      "outputs": [
        {
          "output_type": "stream",
          "name": "stdout",
          "text": [
            "*********predicted data*********\n",
            "[1 1 1 1 1 1 1 1 1 1 1 1 1 1 1 1 1 1 1 1 0 1 1 1 0 1 1 1 1 1 1 0 1 0]\n",
            "*********real data*********\n",
            "31     1\n",
            "65     1\n",
            "125    1\n",
            "163    0\n",
            "108    1\n",
            "68     1\n",
            "64     1\n",
            "140    1\n",
            "62     1\n",
            "161    1\n",
            "18     1\n",
            "12     1\n",
            "79     1\n",
            "87     1\n",
            "17     1\n",
            "85     1\n",
            "148    1\n",
            "93     1\n",
            "137    1\n",
            "132    1\n",
            "40     0\n",
            "35     1\n",
            "156    1\n",
            "76     1\n",
            "11     1\n",
            "124    0\n",
            "28     1\n",
            "77     1\n",
            "116    0\n",
            "89     1\n",
            "141    1\n",
            "32     0\n",
            "81     1\n",
            "23     1\n",
            "Name: gender, dtype: int64\n",
            "Accuracy score for 1 is  0.8529411764705882\n",
            "*********predicted data*********\n",
            "[1 1 1 1 1 0 1 1 1 1 1 1 1 1 0 1 1 1 1 1 0 1 1 1 0 1 1 1 1 1 1 0 1 0]\n",
            "*********real data*********\n",
            "31     1\n",
            "65     1\n",
            "125    1\n",
            "163    0\n",
            "108    1\n",
            "68     1\n",
            "64     1\n",
            "140    1\n",
            "62     1\n",
            "161    1\n",
            "18     1\n",
            "12     1\n",
            "79     1\n",
            "87     1\n",
            "17     1\n",
            "85     1\n",
            "148    1\n",
            "93     1\n",
            "137    1\n",
            "132    1\n",
            "40     0\n",
            "35     1\n",
            "156    1\n",
            "76     1\n",
            "11     1\n",
            "124    0\n",
            "28     1\n",
            "77     1\n",
            "116    0\n",
            "89     1\n",
            "141    1\n",
            "32     0\n",
            "81     1\n",
            "23     1\n",
            "Name: gender, dtype: int64\n",
            "Accuracy score for 3 is  0.7941176470588235\n",
            "*********predicted data*********\n",
            "[1 1 1 1 1 1 1 1 1 1 1 1 1 1 0 1 1 1 1 1 0 1 1 1 1 1 1 1 1 1 1 1 1 1]\n",
            "*********real data*********\n",
            "31     1\n",
            "65     1\n",
            "125    1\n",
            "163    0\n",
            "108    1\n",
            "68     1\n",
            "64     1\n",
            "140    1\n",
            "62     1\n",
            "161    1\n",
            "18     1\n",
            "12     1\n",
            "79     1\n",
            "87     1\n",
            "17     1\n",
            "85     1\n",
            "148    1\n",
            "93     1\n",
            "137    1\n",
            "132    1\n",
            "40     0\n",
            "35     1\n",
            "156    1\n",
            "76     1\n",
            "11     1\n",
            "124    0\n",
            "28     1\n",
            "77     1\n",
            "116    0\n",
            "89     1\n",
            "141    1\n",
            "32     0\n",
            "81     1\n",
            "23     1\n",
            "Name: gender, dtype: int64\n",
            "Accuracy score for 5 is  0.8529411764705882\n",
            "*********predicted data*********\n",
            "[1 1 1 1 1 1 1 1 1 1 1 1 1 1 1 1 1 1 1 1 1 1 1 1 1 1 1 1 1 1 1 1 1 1]\n",
            "*********real data*********\n",
            "31     1\n",
            "65     1\n",
            "125    1\n",
            "163    0\n",
            "108    1\n",
            "68     1\n",
            "64     1\n",
            "140    1\n",
            "62     1\n",
            "161    1\n",
            "18     1\n",
            "12     1\n",
            "79     1\n",
            "87     1\n",
            "17     1\n",
            "85     1\n",
            "148    1\n",
            "93     1\n",
            "137    1\n",
            "132    1\n",
            "40     0\n",
            "35     1\n",
            "156    1\n",
            "76     1\n",
            "11     1\n",
            "124    0\n",
            "28     1\n",
            "77     1\n",
            "116    0\n",
            "89     1\n",
            "141    1\n",
            "32     0\n",
            "81     1\n",
            "23     1\n",
            "Name: gender, dtype: int64\n",
            "Accuracy score for 7 is  0.8529411764705882\n",
            "*********predicted data*********\n",
            "[1 1 1 1 1 1 1 1 1 1 1 1 1 1 1 1 1 1 1 1 1 1 1 1 1 1 1 1 1 1 1 1 1 1]\n",
            "*********real data*********\n",
            "31     1\n",
            "65     1\n",
            "125    1\n",
            "163    0\n",
            "108    1\n",
            "68     1\n",
            "64     1\n",
            "140    1\n",
            "62     1\n",
            "161    1\n",
            "18     1\n",
            "12     1\n",
            "79     1\n",
            "87     1\n",
            "17     1\n",
            "85     1\n",
            "148    1\n",
            "93     1\n",
            "137    1\n",
            "132    1\n",
            "40     0\n",
            "35     1\n",
            "156    1\n",
            "76     1\n",
            "11     1\n",
            "124    0\n",
            "28     1\n",
            "77     1\n",
            "116    0\n",
            "89     1\n",
            "141    1\n",
            "32     0\n",
            "81     1\n",
            "23     1\n",
            "Name: gender, dtype: int64\n",
            "Accuracy score for 9 is  0.8529411764705882\n",
            "*********predicted data*********\n",
            "[1 1 1 1 1 1 1 1 1 1 1 1 1 1 1 1 1 1 1 1 1 1 1 1 1 1 1 1 1 1 1 1 1 1]\n",
            "*********real data*********\n",
            "31     1\n",
            "65     1\n",
            "125    1\n",
            "163    0\n",
            "108    1\n",
            "68     1\n",
            "64     1\n",
            "140    1\n",
            "62     1\n",
            "161    1\n",
            "18     1\n",
            "12     1\n",
            "79     1\n",
            "87     1\n",
            "17     1\n",
            "85     1\n",
            "148    1\n",
            "93     1\n",
            "137    1\n",
            "132    1\n",
            "40     0\n",
            "35     1\n",
            "156    1\n",
            "76     1\n",
            "11     1\n",
            "124    0\n",
            "28     1\n",
            "77     1\n",
            "116    0\n",
            "89     1\n",
            "141    1\n",
            "32     0\n",
            "81     1\n",
            "23     1\n",
            "Name: gender, dtype: int64\n",
            "Accuracy score for 11 is  0.8529411764705882\n",
            "*********predicted data*********\n",
            "[1 1 1 1 1 1 1 1 1 1 1 1 1 1 1 1 1 1 1 1 1 1 1 1 1 1 1 1 1 1 1 1 1 1]\n",
            "*********real data*********\n",
            "31     1\n",
            "65     1\n",
            "125    1\n",
            "163    0\n",
            "108    1\n",
            "68     1\n",
            "64     1\n",
            "140    1\n",
            "62     1\n",
            "161    1\n",
            "18     1\n",
            "12     1\n",
            "79     1\n",
            "87     1\n",
            "17     1\n",
            "85     1\n",
            "148    1\n",
            "93     1\n",
            "137    1\n",
            "132    1\n",
            "40     0\n",
            "35     1\n",
            "156    1\n",
            "76     1\n",
            "11     1\n",
            "124    0\n",
            "28     1\n",
            "77     1\n",
            "116    0\n",
            "89     1\n",
            "141    1\n",
            "32     0\n",
            "81     1\n",
            "23     1\n",
            "Name: gender, dtype: int64\n",
            "Accuracy score for 13 is  0.8529411764705882\n",
            "*********predicted data*********\n",
            "[1 1 1 1 1 1 1 1 1 1 1 1 1 1 1 1 1 1 1 1 1 1 1 1 1 1 1 1 1 1 1 1 1 1]\n",
            "*********real data*********\n",
            "31     1\n",
            "65     1\n",
            "125    1\n",
            "163    0\n",
            "108    1\n",
            "68     1\n",
            "64     1\n",
            "140    1\n",
            "62     1\n",
            "161    1\n",
            "18     1\n",
            "12     1\n",
            "79     1\n",
            "87     1\n",
            "17     1\n",
            "85     1\n",
            "148    1\n",
            "93     1\n",
            "137    1\n",
            "132    1\n",
            "40     0\n",
            "35     1\n",
            "156    1\n",
            "76     1\n",
            "11     1\n",
            "124    0\n",
            "28     1\n",
            "77     1\n",
            "116    0\n",
            "89     1\n",
            "141    1\n",
            "32     0\n",
            "81     1\n",
            "23     1\n",
            "Name: gender, dtype: int64\n",
            "Accuracy score for 15 is  0.8529411764705882\n",
            "*********predicted data*********\n",
            "[1 1 1 1 1 1 1 1 1 1 1 1 1 1 1 1 1 1 1 1 1 1 1 1 1 1 1 1 1 1 1 1 1 1]\n",
            "*********real data*********\n",
            "31     1\n",
            "65     1\n",
            "125    1\n",
            "163    0\n",
            "108    1\n",
            "68     1\n",
            "64     1\n",
            "140    1\n",
            "62     1\n",
            "161    1\n",
            "18     1\n",
            "12     1\n",
            "79     1\n",
            "87     1\n",
            "17     1\n",
            "85     1\n",
            "148    1\n",
            "93     1\n",
            "137    1\n",
            "132    1\n",
            "40     0\n",
            "35     1\n",
            "156    1\n",
            "76     1\n",
            "11     1\n",
            "124    0\n",
            "28     1\n",
            "77     1\n",
            "116    0\n",
            "89     1\n",
            "141    1\n",
            "32     0\n",
            "81     1\n",
            "23     1\n",
            "Name: gender, dtype: int64\n",
            "Accuracy score for 17 is  0.8529411764705882\n",
            "*********predicted data*********\n",
            "[1 1 1 1 1 1 1 1 1 1 1 1 1 1 1 1 1 1 1 1 1 1 1 1 1 1 1 1 1 1 1 1 1 1]\n",
            "*********real data*********\n",
            "31     1\n",
            "65     1\n",
            "125    1\n",
            "163    0\n",
            "108    1\n",
            "68     1\n",
            "64     1\n",
            "140    1\n",
            "62     1\n",
            "161    1\n",
            "18     1\n",
            "12     1\n",
            "79     1\n",
            "87     1\n",
            "17     1\n",
            "85     1\n",
            "148    1\n",
            "93     1\n",
            "137    1\n",
            "132    1\n",
            "40     0\n",
            "35     1\n",
            "156    1\n",
            "76     1\n",
            "11     1\n",
            "124    0\n",
            "28     1\n",
            "77     1\n",
            "116    0\n",
            "89     1\n",
            "141    1\n",
            "32     0\n",
            "81     1\n",
            "23     1\n",
            "Name: gender, dtype: int64\n",
            "Accuracy score for 19 is  0.8529411764705882\n",
            "*********predicted data*********\n",
            "[1 1 1 1 1 1 1 1 1 1 1 1 1 1 1 1 1 1 1 1 1 1 1 1 1 1 1 1 1 1 1 1 1 1]\n",
            "*********real data*********\n",
            "31     1\n",
            "65     1\n",
            "125    1\n",
            "163    0\n",
            "108    1\n",
            "68     1\n",
            "64     1\n",
            "140    1\n",
            "62     1\n",
            "161    1\n",
            "18     1\n",
            "12     1\n",
            "79     1\n",
            "87     1\n",
            "17     1\n",
            "85     1\n",
            "148    1\n",
            "93     1\n",
            "137    1\n",
            "132    1\n",
            "40     0\n",
            "35     1\n",
            "156    1\n",
            "76     1\n",
            "11     1\n",
            "124    0\n",
            "28     1\n",
            "77     1\n",
            "116    0\n",
            "89     1\n",
            "141    1\n",
            "32     0\n",
            "81     1\n",
            "23     1\n",
            "Name: gender, dtype: int64\n",
            "Accuracy score for 21 is  0.8529411764705882\n",
            "*********predicted data*********\n",
            "[1 1 1 1 1 1 1 1 1 1 1 1 1 1 1 1 1 1 1 1 1 1 1 1 1 1 1 1 1 1 1 1 1 1]\n",
            "*********real data*********\n",
            "31     1\n",
            "65     1\n",
            "125    1\n",
            "163    0\n",
            "108    1\n",
            "68     1\n",
            "64     1\n",
            "140    1\n",
            "62     1\n",
            "161    1\n",
            "18     1\n",
            "12     1\n",
            "79     1\n",
            "87     1\n",
            "17     1\n",
            "85     1\n",
            "148    1\n",
            "93     1\n",
            "137    1\n",
            "132    1\n",
            "40     0\n",
            "35     1\n",
            "156    1\n",
            "76     1\n",
            "11     1\n",
            "124    0\n",
            "28     1\n",
            "77     1\n",
            "116    0\n",
            "89     1\n",
            "141    1\n",
            "32     0\n",
            "81     1\n",
            "23     1\n",
            "Name: gender, dtype: int64\n",
            "Accuracy score for 23 is  0.8529411764705882\n",
            "*********predicted data*********\n",
            "[1 1 1 1 1 1 1 1 1 1 1 1 1 1 1 1 1 1 1 1 1 1 1 1 1 1 1 1 1 1 1 1 1 1]\n",
            "*********real data*********\n",
            "31     1\n",
            "65     1\n",
            "125    1\n",
            "163    0\n",
            "108    1\n",
            "68     1\n",
            "64     1\n",
            "140    1\n",
            "62     1\n",
            "161    1\n",
            "18     1\n",
            "12     1\n",
            "79     1\n",
            "87     1\n",
            "17     1\n",
            "85     1\n",
            "148    1\n",
            "93     1\n",
            "137    1\n",
            "132    1\n",
            "40     0\n",
            "35     1\n",
            "156    1\n",
            "76     1\n",
            "11     1\n",
            "124    0\n",
            "28     1\n",
            "77     1\n",
            "116    0\n",
            "89     1\n",
            "141    1\n",
            "32     0\n",
            "81     1\n",
            "23     1\n",
            "Name: gender, dtype: int64\n",
            "Accuracy score for 25 is  0.8529411764705882\n",
            "*********predicted data*********\n",
            "[1 1 1 1 1 1 1 1 1 1 1 1 1 1 1 1 1 1 1 1 1 1 1 1 1 1 1 1 1 1 1 1 1 1]\n",
            "*********real data*********\n",
            "31     1\n",
            "65     1\n",
            "125    1\n",
            "163    0\n",
            "108    1\n",
            "68     1\n",
            "64     1\n",
            "140    1\n",
            "62     1\n",
            "161    1\n",
            "18     1\n",
            "12     1\n",
            "79     1\n",
            "87     1\n",
            "17     1\n",
            "85     1\n",
            "148    1\n",
            "93     1\n",
            "137    1\n",
            "132    1\n",
            "40     0\n",
            "35     1\n",
            "156    1\n",
            "76     1\n",
            "11     1\n",
            "124    0\n",
            "28     1\n",
            "77     1\n",
            "116    0\n",
            "89     1\n",
            "141    1\n",
            "32     0\n",
            "81     1\n",
            "23     1\n",
            "Name: gender, dtype: int64\n",
            "Accuracy score for 27 is  0.8529411764705882\n",
            "*********predicted data*********\n",
            "[1 1 1 1 1 1 1 1 1 1 1 1 1 1 1 1 1 1 1 1 1 1 1 1 1 1 1 1 1 1 1 1 1 1]\n",
            "*********real data*********\n",
            "31     1\n",
            "65     1\n",
            "125    1\n",
            "163    0\n",
            "108    1\n",
            "68     1\n",
            "64     1\n",
            "140    1\n",
            "62     1\n",
            "161    1\n",
            "18     1\n",
            "12     1\n",
            "79     1\n",
            "87     1\n",
            "17     1\n",
            "85     1\n",
            "148    1\n",
            "93     1\n",
            "137    1\n",
            "132    1\n",
            "40     0\n",
            "35     1\n",
            "156    1\n",
            "76     1\n",
            "11     1\n",
            "124    0\n",
            "28     1\n",
            "77     1\n",
            "116    0\n",
            "89     1\n",
            "141    1\n",
            "32     0\n",
            "81     1\n",
            "23     1\n",
            "Name: gender, dtype: int64\n",
            "Accuracy score for 29 is  0.8529411764705882\n",
            "*********predicted data*********\n",
            "[1 1 1 1 1 1 1 1 1 1 1 1 1 1 1 1 1 1 1 1 1 1 1 1 1 1 1 1 1 1 1 1 1 1]\n",
            "*********real data*********\n",
            "31     1\n",
            "65     1\n",
            "125    1\n",
            "163    0\n",
            "108    1\n",
            "68     1\n",
            "64     1\n",
            "140    1\n",
            "62     1\n",
            "161    1\n",
            "18     1\n",
            "12     1\n",
            "79     1\n",
            "87     1\n",
            "17     1\n",
            "85     1\n",
            "148    1\n",
            "93     1\n",
            "137    1\n",
            "132    1\n",
            "40     0\n",
            "35     1\n",
            "156    1\n",
            "76     1\n",
            "11     1\n",
            "124    0\n",
            "28     1\n",
            "77     1\n",
            "116    0\n",
            "89     1\n",
            "141    1\n",
            "32     0\n",
            "81     1\n",
            "23     1\n",
            "Name: gender, dtype: int64\n",
            "Accuracy score for 31 is  0.8529411764705882\n",
            "*********predicted data*********\n",
            "[1 1 1 1 1 1 1 1 1 1 1 1 1 1 1 1 1 1 1 1 1 1 1 1 1 1 1 1 1 1 1 1 1 1]\n",
            "*********real data*********\n",
            "31     1\n",
            "65     1\n",
            "125    1\n",
            "163    0\n",
            "108    1\n",
            "68     1\n",
            "64     1\n",
            "140    1\n",
            "62     1\n",
            "161    1\n",
            "18     1\n",
            "12     1\n",
            "79     1\n",
            "87     1\n",
            "17     1\n",
            "85     1\n",
            "148    1\n",
            "93     1\n",
            "137    1\n",
            "132    1\n",
            "40     0\n",
            "35     1\n",
            "156    1\n",
            "76     1\n",
            "11     1\n",
            "124    0\n",
            "28     1\n",
            "77     1\n",
            "116    0\n",
            "89     1\n",
            "141    1\n",
            "32     0\n",
            "81     1\n",
            "23     1\n",
            "Name: gender, dtype: int64\n",
            "Accuracy score for 33 is  0.8529411764705882\n",
            "*********predicted data*********\n",
            "[1 1 1 1 1 1 1 1 1 1 1 1 1 1 1 1 1 1 1 1 1 1 1 1 1 1 1 1 1 1 1 1 1 1]\n",
            "*********real data*********\n",
            "31     1\n",
            "65     1\n",
            "125    1\n",
            "163    0\n",
            "108    1\n",
            "68     1\n",
            "64     1\n",
            "140    1\n",
            "62     1\n",
            "161    1\n",
            "18     1\n",
            "12     1\n",
            "79     1\n",
            "87     1\n",
            "17     1\n",
            "85     1\n",
            "148    1\n",
            "93     1\n",
            "137    1\n",
            "132    1\n",
            "40     0\n",
            "35     1\n",
            "156    1\n",
            "76     1\n",
            "11     1\n",
            "124    0\n",
            "28     1\n",
            "77     1\n",
            "116    0\n",
            "89     1\n",
            "141    1\n",
            "32     0\n",
            "81     1\n",
            "23     1\n",
            "Name: gender, dtype: int64\n",
            "Accuracy score for 35 is  0.8529411764705882\n",
            "*********predicted data*********\n",
            "[1 1 1 1 1 1 1 1 1 1 1 1 1 1 1 1 1 1 1 1 1 1 1 1 1 1 1 1 1 1 1 1 1 1]\n",
            "*********real data*********\n",
            "31     1\n",
            "65     1\n",
            "125    1\n",
            "163    0\n",
            "108    1\n",
            "68     1\n",
            "64     1\n",
            "140    1\n",
            "62     1\n",
            "161    1\n",
            "18     1\n",
            "12     1\n",
            "79     1\n",
            "87     1\n",
            "17     1\n",
            "85     1\n",
            "148    1\n",
            "93     1\n",
            "137    1\n",
            "132    1\n",
            "40     0\n",
            "35     1\n",
            "156    1\n",
            "76     1\n",
            "11     1\n",
            "124    0\n",
            "28     1\n",
            "77     1\n",
            "116    0\n",
            "89     1\n",
            "141    1\n",
            "32     0\n",
            "81     1\n",
            "23     1\n",
            "Name: gender, dtype: int64\n",
            "Accuracy score for 37 is  0.8529411764705882\n",
            "*********predicted data*********\n",
            "[1 1 1 1 1 1 1 1 1 1 1 1 1 1 1 1 1 1 1 1 1 1 1 1 1 1 1 1 1 1 1 1 1 1]\n",
            "*********real data*********\n",
            "31     1\n",
            "65     1\n",
            "125    1\n",
            "163    0\n",
            "108    1\n",
            "68     1\n",
            "64     1\n",
            "140    1\n",
            "62     1\n",
            "161    1\n",
            "18     1\n",
            "12     1\n",
            "79     1\n",
            "87     1\n",
            "17     1\n",
            "85     1\n",
            "148    1\n",
            "93     1\n",
            "137    1\n",
            "132    1\n",
            "40     0\n",
            "35     1\n",
            "156    1\n",
            "76     1\n",
            "11     1\n",
            "124    0\n",
            "28     1\n",
            "77     1\n",
            "116    0\n",
            "89     1\n",
            "141    1\n",
            "32     0\n",
            "81     1\n",
            "23     1\n",
            "Name: gender, dtype: int64\n",
            "Accuracy score for 39 is  0.8529411764705882\n",
            "*********predicted data*********\n",
            "[1 1 1 1 1 1 1 1 1 1 1 1 1 1 1 1 1 1 1 1 1 1 1 1 1 1 1 1 1 1 1 1 1 1]\n",
            "*********real data*********\n",
            "31     1\n",
            "65     1\n",
            "125    1\n",
            "163    0\n",
            "108    1\n",
            "68     1\n",
            "64     1\n",
            "140    1\n",
            "62     1\n",
            "161    1\n",
            "18     1\n",
            "12     1\n",
            "79     1\n",
            "87     1\n",
            "17     1\n",
            "85     1\n",
            "148    1\n",
            "93     1\n",
            "137    1\n",
            "132    1\n",
            "40     0\n",
            "35     1\n",
            "156    1\n",
            "76     1\n",
            "11     1\n",
            "124    0\n",
            "28     1\n",
            "77     1\n",
            "116    0\n",
            "89     1\n",
            "141    1\n",
            "32     0\n",
            "81     1\n",
            "23     1\n",
            "Name: gender, dtype: int64\n",
            "Accuracy score for 41 is  0.8529411764705882\n",
            "*********predicted data*********\n",
            "[1 1 1 1 1 1 1 1 1 1 1 1 1 1 1 1 1 1 1 1 1 1 1 1 1 1 1 1 1 1 1 1 1 1]\n",
            "*********real data*********\n",
            "31     1\n",
            "65     1\n",
            "125    1\n",
            "163    0\n",
            "108    1\n",
            "68     1\n",
            "64     1\n",
            "140    1\n",
            "62     1\n",
            "161    1\n",
            "18     1\n",
            "12     1\n",
            "79     1\n",
            "87     1\n",
            "17     1\n",
            "85     1\n",
            "148    1\n",
            "93     1\n",
            "137    1\n",
            "132    1\n",
            "40     0\n",
            "35     1\n",
            "156    1\n",
            "76     1\n",
            "11     1\n",
            "124    0\n",
            "28     1\n",
            "77     1\n",
            "116    0\n",
            "89     1\n",
            "141    1\n",
            "32     0\n",
            "81     1\n",
            "23     1\n",
            "Name: gender, dtype: int64\n",
            "Accuracy score for 43 is  0.8529411764705882\n",
            "*********predicted data*********\n",
            "[1 1 1 1 1 1 1 1 1 1 1 1 1 1 1 1 1 1 1 1 1 1 1 1 1 1 1 1 1 1 1 1 1 1]\n",
            "*********real data*********\n",
            "31     1\n",
            "65     1\n",
            "125    1\n",
            "163    0\n",
            "108    1\n",
            "68     1\n",
            "64     1\n",
            "140    1\n",
            "62     1\n",
            "161    1\n",
            "18     1\n",
            "12     1\n",
            "79     1\n",
            "87     1\n",
            "17     1\n",
            "85     1\n",
            "148    1\n",
            "93     1\n",
            "137    1\n",
            "132    1\n",
            "40     0\n",
            "35     1\n",
            "156    1\n",
            "76     1\n",
            "11     1\n",
            "124    0\n",
            "28     1\n",
            "77     1\n",
            "116    0\n",
            "89     1\n",
            "141    1\n",
            "32     0\n",
            "81     1\n",
            "23     1\n",
            "Name: gender, dtype: int64\n",
            "Accuracy score for 45 is  0.8529411764705882\n",
            "*********predicted data*********\n",
            "[1 1 1 1 1 1 1 1 1 1 1 1 1 1 1 1 1 1 1 1 1 1 1 1 1 1 1 1 1 1 1 1 1 1]\n",
            "*********real data*********\n",
            "31     1\n",
            "65     1\n",
            "125    1\n",
            "163    0\n",
            "108    1\n",
            "68     1\n",
            "64     1\n",
            "140    1\n",
            "62     1\n",
            "161    1\n",
            "18     1\n",
            "12     1\n",
            "79     1\n",
            "87     1\n",
            "17     1\n",
            "85     1\n",
            "148    1\n",
            "93     1\n",
            "137    1\n",
            "132    1\n",
            "40     0\n",
            "35     1\n",
            "156    1\n",
            "76     1\n",
            "11     1\n",
            "124    0\n",
            "28     1\n",
            "77     1\n",
            "116    0\n",
            "89     1\n",
            "141    1\n",
            "32     0\n",
            "81     1\n",
            "23     1\n",
            "Name: gender, dtype: int64\n",
            "Accuracy score for 47 is  0.8529411764705882\n",
            "*********predicted data*********\n",
            "[1 1 1 1 1 1 1 1 1 1 1 1 1 1 1 1 1 1 1 1 1 1 1 1 1 1 1 1 1 1 1 1 1 1]\n",
            "*********real data*********\n",
            "31     1\n",
            "65     1\n",
            "125    1\n",
            "163    0\n",
            "108    1\n",
            "68     1\n",
            "64     1\n",
            "140    1\n",
            "62     1\n",
            "161    1\n",
            "18     1\n",
            "12     1\n",
            "79     1\n",
            "87     1\n",
            "17     1\n",
            "85     1\n",
            "148    1\n",
            "93     1\n",
            "137    1\n",
            "132    1\n",
            "40     0\n",
            "35     1\n",
            "156    1\n",
            "76     1\n",
            "11     1\n",
            "124    0\n",
            "28     1\n",
            "77     1\n",
            "116    0\n",
            "89     1\n",
            "141    1\n",
            "32     0\n",
            "81     1\n",
            "23     1\n",
            "Name: gender, dtype: int64\n",
            "Accuracy score for 49 is  0.8529411764705882\n",
            "BestK  :  1\n",
            "BestScore  :  0.8529411764705882\n"
          ]
        }
      ]
    },
    {
      "cell_type": "markdown",
      "source": [
        "# SVM\n"
      ],
      "metadata": {
        "id": "qjop5vB8zo5_"
      },
      "id": "qjop5vB8zo5_"
    },
    {
      "cell_type": "code",
      "source": [
        "from sklearn import svm\n",
        "scaler = StandardScaler()\n",
        "scaler.fit(x_train)\n",
        "X_train = scaler.transform(x_train)"
      ],
      "metadata": {
        "id": "dZ2OSK2bzJyk"
      },
      "id": "dZ2OSK2bzJyk",
      "execution_count": 47,
      "outputs": []
    },
    {
      "cell_type": "code",
      "source": [
        "for k in ('linear', 'poly', 'rbf', 'sigmoid'):\n",
        "    model = svm.SVC(kernel=k)\n",
        "    model.fit(X_train, y_train)\n",
        "    y_pred = model.predict(X_train)\n",
        "    print(k)\n",
        "    print(accuracy_score(y_train, y_pred))"
      ],
      "metadata": {
        "colab": {
          "base_uri": "https://localhost:8080/"
        },
        "id": "IeIMd3ms1rzM",
        "outputId": "ed061bcb-e8bf-4ee8-ca88-11928f0e095b"
      },
      "id": "IeIMd3ms1rzM",
      "execution_count": 48,
      "outputs": [
        {
          "output_type": "stream",
          "name": "stdout",
          "text": [
            "linear\n",
            "0.848\n",
            "poly\n",
            "0.848\n",
            "rbf\n",
            "0.848\n",
            "sigmoid\n",
            "0.792\n"
          ]
        }
      ]
    },
    {
      "cell_type": "code",
      "source": [
        "x_test = scaler.transform(x_test)\n",
        "y_pred = model.predict(x_test)\n",
        "print(\"Accuracy Score:\", accuracy_score(y_test, y_pred))"
      ],
      "metadata": {
        "colab": {
          "base_uri": "https://localhost:8080/"
        },
        "id": "g0nlHgg71zx-",
        "outputId": "dfc82a61-f3ba-439d-e8af-ab4860f179a4"
      },
      "id": "g0nlHgg71zx-",
      "execution_count": 49,
      "outputs": [
        {
          "output_type": "stream",
          "name": "stdout",
          "text": [
            "Accuracy Score: 0.8095238095238095\n"
          ]
        }
      ]
    },
    {
      "cell_type": "code",
      "source": [
        "model = svm.SVC(kernel='sigmoid')\n",
        "model.fit(x_train,y_train)"
      ],
      "metadata": {
        "colab": {
          "base_uri": "https://localhost:8080/",
          "height": 74
        },
        "id": "8l-zf4T32e_B",
        "outputId": "e544ca1f-b38f-4a8d-c423-f455fca43220"
      },
      "id": "8l-zf4T32e_B",
      "execution_count": 50,
      "outputs": [
        {
          "output_type": "execute_result",
          "data": {
            "text/plain": [
              "SVC(kernel='sigmoid')"
            ],
            "text/html": [
              "<style>#sk-container-id-4 {color: black;background-color: white;}#sk-container-id-4 pre{padding: 0;}#sk-container-id-4 div.sk-toggleable {background-color: white;}#sk-container-id-4 label.sk-toggleable__label {cursor: pointer;display: block;width: 100%;margin-bottom: 0;padding: 0.3em;box-sizing: border-box;text-align: center;}#sk-container-id-4 label.sk-toggleable__label-arrow:before {content: \"▸\";float: left;margin-right: 0.25em;color: #696969;}#sk-container-id-4 label.sk-toggleable__label-arrow:hover:before {color: black;}#sk-container-id-4 div.sk-estimator:hover label.sk-toggleable__label-arrow:before {color: black;}#sk-container-id-4 div.sk-toggleable__content {max-height: 0;max-width: 0;overflow: hidden;text-align: left;background-color: #f0f8ff;}#sk-container-id-4 div.sk-toggleable__content pre {margin: 0.2em;color: black;border-radius: 0.25em;background-color: #f0f8ff;}#sk-container-id-4 input.sk-toggleable__control:checked~div.sk-toggleable__content {max-height: 200px;max-width: 100%;overflow: auto;}#sk-container-id-4 input.sk-toggleable__control:checked~label.sk-toggleable__label-arrow:before {content: \"▾\";}#sk-container-id-4 div.sk-estimator input.sk-toggleable__control:checked~label.sk-toggleable__label {background-color: #d4ebff;}#sk-container-id-4 div.sk-label input.sk-toggleable__control:checked~label.sk-toggleable__label {background-color: #d4ebff;}#sk-container-id-4 input.sk-hidden--visually {border: 0;clip: rect(1px 1px 1px 1px);clip: rect(1px, 1px, 1px, 1px);height: 1px;margin: -1px;overflow: hidden;padding: 0;position: absolute;width: 1px;}#sk-container-id-4 div.sk-estimator {font-family: monospace;background-color: #f0f8ff;border: 1px dotted black;border-radius: 0.25em;box-sizing: border-box;margin-bottom: 0.5em;}#sk-container-id-4 div.sk-estimator:hover {background-color: #d4ebff;}#sk-container-id-4 div.sk-parallel-item::after {content: \"\";width: 100%;border-bottom: 1px solid gray;flex-grow: 1;}#sk-container-id-4 div.sk-label:hover label.sk-toggleable__label {background-color: #d4ebff;}#sk-container-id-4 div.sk-serial::before {content: \"\";position: absolute;border-left: 1px solid gray;box-sizing: border-box;top: 0;bottom: 0;left: 50%;z-index: 0;}#sk-container-id-4 div.sk-serial {display: flex;flex-direction: column;align-items: center;background-color: white;padding-right: 0.2em;padding-left: 0.2em;position: relative;}#sk-container-id-4 div.sk-item {position: relative;z-index: 1;}#sk-container-id-4 div.sk-parallel {display: flex;align-items: stretch;justify-content: center;background-color: white;position: relative;}#sk-container-id-4 div.sk-item::before, #sk-container-id-4 div.sk-parallel-item::before {content: \"\";position: absolute;border-left: 1px solid gray;box-sizing: border-box;top: 0;bottom: 0;left: 50%;z-index: -1;}#sk-container-id-4 div.sk-parallel-item {display: flex;flex-direction: column;z-index: 1;position: relative;background-color: white;}#sk-container-id-4 div.sk-parallel-item:first-child::after {align-self: flex-end;width: 50%;}#sk-container-id-4 div.sk-parallel-item:last-child::after {align-self: flex-start;width: 50%;}#sk-container-id-4 div.sk-parallel-item:only-child::after {width: 0;}#sk-container-id-4 div.sk-dashed-wrapped {border: 1px dashed gray;margin: 0 0.4em 0.5em 0.4em;box-sizing: border-box;padding-bottom: 0.4em;background-color: white;}#sk-container-id-4 div.sk-label label {font-family: monospace;font-weight: bold;display: inline-block;line-height: 1.2em;}#sk-container-id-4 div.sk-label-container {text-align: center;}#sk-container-id-4 div.sk-container {/* jupyter's `normalize.less` sets `[hidden] { display: none; }` but bootstrap.min.css set `[hidden] { display: none !important; }` so we also need the `!important` here to be able to override the default hidden behavior on the sphinx rendered scikit-learn.org. See: https://github.com/scikit-learn/scikit-learn/issues/21755 */display: inline-block !important;position: relative;}#sk-container-id-4 div.sk-text-repr-fallback {display: none;}</style><div id=\"sk-container-id-4\" class=\"sk-top-container\"><div class=\"sk-text-repr-fallback\"><pre>SVC(kernel=&#x27;sigmoid&#x27;)</pre><b>In a Jupyter environment, please rerun this cell to show the HTML representation or trust the notebook. <br />On GitHub, the HTML representation is unable to render, please try loading this page with nbviewer.org.</b></div><div class=\"sk-container\" hidden><div class=\"sk-item\"><div class=\"sk-estimator sk-toggleable\"><input class=\"sk-toggleable__control sk-hidden--visually\" id=\"sk-estimator-id-4\" type=\"checkbox\" checked><label for=\"sk-estimator-id-4\" class=\"sk-toggleable__label sk-toggleable__label-arrow\">SVC</label><div class=\"sk-toggleable__content\"><pre>SVC(kernel=&#x27;sigmoid&#x27;)</pre></div></div></div></div></div>"
            ]
          },
          "metadata": {},
          "execution_count": 50
        }
      ]
    },
    {
      "cell_type": "code",
      "source": [
        "x_test = scaler.transform(x_test)\n",
        "y_pred = model.predict(x_test)\n",
        "print(\"Accuracy Score:\", accuracy_score(y_test, y_pred))"
      ],
      "metadata": {
        "colab": {
          "base_uri": "https://localhost:8080/"
        },
        "id": "SqeMjUln2Dgr",
        "outputId": "7013ec1b-27a4-46e0-e516-0837c92515c8"
      },
      "id": "SqeMjUln2Dgr",
      "execution_count": 51,
      "outputs": [
        {
          "output_type": "stream",
          "name": "stdout",
          "text": [
            "Accuracy Score: 0.8095238095238095\n"
          ]
        }
      ]
    },
    {
      "cell_type": "code",
      "source": [],
      "metadata": {
        "id": "AvT76pmH2XJ7"
      },
      "id": "AvT76pmH2XJ7",
      "execution_count": 51,
      "outputs": []
    },
    {
      "cell_type": "code",
      "source": [],
      "metadata": {
        "id": "X8RmhCVs2zOo"
      },
      "id": "X8RmhCVs2zOo",
      "execution_count": 51,
      "outputs": []
    },
    {
      "cell_type": "code",
      "source": [],
      "metadata": {
        "id": "4HGNRKSW2rVE"
      },
      "id": "4HGNRKSW2rVE",
      "execution_count": 51,
      "outputs": []
    },
    {
      "cell_type": "code",
      "source": [],
      "metadata": {
        "id": "PJRPCmSu2svg"
      },
      "id": "PJRPCmSu2svg",
      "execution_count": 51,
      "outputs": []
    }
  ],
  "metadata": {
    "kernelspec": {
      "display_name": "Python 3 (ipykernel)",
      "language": "python",
      "name": "python3"
    },
    "language_info": {
      "codemirror_mode": {
        "name": "ipython",
        "version": 3
      },
      "file_extension": ".py",
      "mimetype": "text/x-python",
      "name": "python",
      "nbconvert_exporter": "python",
      "pygments_lexer": "ipython3",
      "version": "3.9.12"
    },
    "colab": {
      "provenance": [],
      "toc_visible": true
    }
  },
  "nbformat": 4,
  "nbformat_minor": 5
}